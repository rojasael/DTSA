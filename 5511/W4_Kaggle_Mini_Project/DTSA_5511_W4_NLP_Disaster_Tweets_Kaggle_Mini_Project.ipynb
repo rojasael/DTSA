{
  "cells": [
    {
      "cell_type": "markdown",
      "metadata": {
        "id": "GPV0OUgXSkUq"
      },
      "source": [
        "# DTSA 5511 Disater Tweets Kaggle Mini Project"
      ]
    },
    {
      "cell_type": "markdown",
      "metadata": {
        "id": "IAYTADFOSkUs"
      },
      "source": [
        "## Project Topic\n",
        "\n",
        "This project is about building a machine learning model that predicts which Tweets are about real disasters and which one’s aren’t, using a dataset of 10,000 tweets that were hand classified."
      ]
    },
    {
      "cell_type": "code",
      "execution_count": 1,
      "metadata": {
        "id": "ILq0pBwUSkUt"
      },
      "outputs": [],
      "source": [
        "##### added line to ensure plots are showing\n",
        "%matplotlib inline\n",
        "#####\n",
        "\n",
        "# Libraries\n",
        "import numpy as np\n",
        "import pandas as pd\n",
        "import tensorflow as tf\n",
        "import matplotlib.pyplot as plt\n",
        "import matplotlib.image as mpimg\n",
        "import seaborn as sea\n",
        "import warnings\n",
        "import pickle\n",
        "import os\n",
        "\n",
        "from sklearn.model_selection import GridSearchCV\n",
        "from sklearn.decomposition import NMF\n",
        "from sklearn.linear_model import RidgeClassifier\n",
        "\n",
        "from tensorflow import keras\n",
        "from tensorflow.keras.models import Sequential\n",
        "from tensorflow.keras.layers import *\n",
        "from tensorflow.keras.metrics import *\n",
        "from tensorflow.keras.losses import *\n",
        "from tensorflow.keras.optimizers import *\n",
        "from tensorflow.keras import backend\n",
        "from tensorflow.keras.callbacks import ModelCheckpoint\n",
        "from tensorflow.keras.preprocessing.text import Tokenizer\n",
        "import tensorflow_datasets as tfds\n",
        "\n",
        "from sklearn.model_selection import train_test_split\n",
        "from sklearn.metrics import confusion_matrix\n",
        "from sklearn.metrics import ConfusionMatrixDisplay\n",
        "\n",
        "#try:\n",
        "#  import ktrain\n",
        "#except:\n",
        "#  !pip install ktrain\n",
        "#  os.kill(os.getpid(), 9)\n",
        "#from ktrain import text\n",
        "#from ktrain.text import texts_from_df"
      ]
    },
    {
      "cell_type": "code",
      "source": [
        "# Mounting google drive to store the best models\n",
        "from google.colab import drive\n",
        "drive.mount('/content/drive')"
      ],
      "metadata": {
        "colab": {
          "base_uri": "https://localhost:8080/"
        },
        "id": "XBg6FDCW8Dnl",
        "outputId": "992bfc04-0bdd-4188-f9a9-f46480d9a5c1"
      },
      "execution_count": 2,
      "outputs": [
        {
          "output_type": "stream",
          "name": "stdout",
          "text": [
            "Mounted at /content/drive\n"
          ]
        }
      ]
    },
    {
      "cell_type": "markdown",
      "metadata": {
        "id": "HfAWtCocSkUu"
      },
      "source": [
        "## The Dataset\n",
        "\n",
        "This is a public dataset published by Kaggle for the *Disaster Tweets* competition that contains 10,876 Tweets, which are binary labeled.\n",
        "\n",
        "Files:\n",
        "- train.csv - 7,613 records in 5 columns\n",
        "- test.csv - 3,263 records in 4 columns\n",
        "- sample_submission.csv - 3,263 records in 4 columns\n",
        "\n",
        "Kaggle source: https://www.kaggle.com/competitions/nlp-getting-started/data  \n",
        "\n",
        "The dataset was created by the company *figure-eight* and originally shared on their *Data For Everyone* website here.\n",
        "\n",
        "Original source: https://twitter.com/AnyOtherAnnaK/status/629195955506708480"
      ]
    },
    {
      "cell_type": "code",
      "execution_count": 3,
      "metadata": {
        "id": "T8DIPD2DSkUv"
      },
      "outputs": [],
      "source": [
        "# Loading testing and training data\n",
        "df_train = pd.read_csv('https://raw.githubusercontent.com/rojasael/DTSA/main/5511/W4_Kaggle_Mini_Project/train.csv')\n",
        "df_test = pd.read_csv('https://raw.githubusercontent.com/rojasael/DTSA/main/5511/W4_Kaggle_Mini_Project/test.csv')\n",
        "df_sample = pd.read_csv('https://raw.githubusercontent.com/rojasael/DTSA/main/5511/W4_Kaggle_Mini_Project/sample_submission.csv')"
      ]
    },
    {
      "cell_type": "markdown",
      "metadata": {
        "id": "1FYpnYEGSkUw"
      },
      "source": [
        "## Exploratory Data Analysis\n",
        "\n",
        "First, let's inspect, visualize, clean and transform the data in preparation for building and training the prediction models."
      ]
    },
    {
      "cell_type": "markdown",
      "metadata": {
        "id": "UsxwILOgSkUw"
      },
      "source": [
        "### Visualizing the datasets"
      ]
    },
    {
      "cell_type": "markdown",
      "metadata": {
        "id": "QslEJq2KSkUw"
      },
      "source": [
        "Display the `train` set:"
      ]
    },
    {
      "cell_type": "code",
      "execution_count": 4,
      "metadata": {
        "id": "5Add1fx0SkUw",
        "outputId": "b4a0bd9c-a363-4427-ac94-966ca8cbff15",
        "colab": {
          "base_uri": "https://localhost:8080/",
          "height": 424
        }
      },
      "outputs": [
        {
          "output_type": "execute_result",
          "data": {
            "text/plain": [
              "         id keyword location  \\\n",
              "0         1     NaN      NaN   \n",
              "1         4     NaN      NaN   \n",
              "2         5     NaN      NaN   \n",
              "3         6     NaN      NaN   \n",
              "4         7     NaN      NaN   \n",
              "...     ...     ...      ...   \n",
              "7608  10869     NaN      NaN   \n",
              "7609  10870     NaN      NaN   \n",
              "7610  10871     NaN      NaN   \n",
              "7611  10872     NaN      NaN   \n",
              "7612  10873     NaN      NaN   \n",
              "\n",
              "                                                   text  target  \n",
              "0     Our Deeds are the Reason of this #earthquake M...       1  \n",
              "1                Forest fire near La Ronge Sask. Canada       1  \n",
              "2     All residents asked to 'shelter in place' are ...       1  \n",
              "3     13,000 people receive #wildfires evacuation or...       1  \n",
              "4     Just got sent this photo from Ruby #Alaska as ...       1  \n",
              "...                                                 ...     ...  \n",
              "7608  Two giant cranes holding a bridge collapse int...       1  \n",
              "7609  @aria_ahrary @TheTawniest The out of control w...       1  \n",
              "7610  M1.94 [01:04 UTC]?5km S of Volcano Hawaii. htt...       1  \n",
              "7611  Police investigating after an e-bike collided ...       1  \n",
              "7612  The Latest: More Homes Razed by Northern Calif...       1  \n",
              "\n",
              "[7613 rows x 5 columns]"
            ],
            "text/html": [
              "\n",
              "  <div id=\"df-21fd1619-5229-4722-b7ef-0c4d25ecc2f0\" class=\"colab-df-container\">\n",
              "    <div>\n",
              "<style scoped>\n",
              "    .dataframe tbody tr th:only-of-type {\n",
              "        vertical-align: middle;\n",
              "    }\n",
              "\n",
              "    .dataframe tbody tr th {\n",
              "        vertical-align: top;\n",
              "    }\n",
              "\n",
              "    .dataframe thead th {\n",
              "        text-align: right;\n",
              "    }\n",
              "</style>\n",
              "<table border=\"1\" class=\"dataframe\">\n",
              "  <thead>\n",
              "    <tr style=\"text-align: right;\">\n",
              "      <th></th>\n",
              "      <th>id</th>\n",
              "      <th>keyword</th>\n",
              "      <th>location</th>\n",
              "      <th>text</th>\n",
              "      <th>target</th>\n",
              "    </tr>\n",
              "  </thead>\n",
              "  <tbody>\n",
              "    <tr>\n",
              "      <th>0</th>\n",
              "      <td>1</td>\n",
              "      <td>NaN</td>\n",
              "      <td>NaN</td>\n",
              "      <td>Our Deeds are the Reason of this #earthquake M...</td>\n",
              "      <td>1</td>\n",
              "    </tr>\n",
              "    <tr>\n",
              "      <th>1</th>\n",
              "      <td>4</td>\n",
              "      <td>NaN</td>\n",
              "      <td>NaN</td>\n",
              "      <td>Forest fire near La Ronge Sask. Canada</td>\n",
              "      <td>1</td>\n",
              "    </tr>\n",
              "    <tr>\n",
              "      <th>2</th>\n",
              "      <td>5</td>\n",
              "      <td>NaN</td>\n",
              "      <td>NaN</td>\n",
              "      <td>All residents asked to 'shelter in place' are ...</td>\n",
              "      <td>1</td>\n",
              "    </tr>\n",
              "    <tr>\n",
              "      <th>3</th>\n",
              "      <td>6</td>\n",
              "      <td>NaN</td>\n",
              "      <td>NaN</td>\n",
              "      <td>13,000 people receive #wildfires evacuation or...</td>\n",
              "      <td>1</td>\n",
              "    </tr>\n",
              "    <tr>\n",
              "      <th>4</th>\n",
              "      <td>7</td>\n",
              "      <td>NaN</td>\n",
              "      <td>NaN</td>\n",
              "      <td>Just got sent this photo from Ruby #Alaska as ...</td>\n",
              "      <td>1</td>\n",
              "    </tr>\n",
              "    <tr>\n",
              "      <th>...</th>\n",
              "      <td>...</td>\n",
              "      <td>...</td>\n",
              "      <td>...</td>\n",
              "      <td>...</td>\n",
              "      <td>...</td>\n",
              "    </tr>\n",
              "    <tr>\n",
              "      <th>7608</th>\n",
              "      <td>10869</td>\n",
              "      <td>NaN</td>\n",
              "      <td>NaN</td>\n",
              "      <td>Two giant cranes holding a bridge collapse int...</td>\n",
              "      <td>1</td>\n",
              "    </tr>\n",
              "    <tr>\n",
              "      <th>7609</th>\n",
              "      <td>10870</td>\n",
              "      <td>NaN</td>\n",
              "      <td>NaN</td>\n",
              "      <td>@aria_ahrary @TheTawniest The out of control w...</td>\n",
              "      <td>1</td>\n",
              "    </tr>\n",
              "    <tr>\n",
              "      <th>7610</th>\n",
              "      <td>10871</td>\n",
              "      <td>NaN</td>\n",
              "      <td>NaN</td>\n",
              "      <td>M1.94 [01:04 UTC]?5km S of Volcano Hawaii. htt...</td>\n",
              "      <td>1</td>\n",
              "    </tr>\n",
              "    <tr>\n",
              "      <th>7611</th>\n",
              "      <td>10872</td>\n",
              "      <td>NaN</td>\n",
              "      <td>NaN</td>\n",
              "      <td>Police investigating after an e-bike collided ...</td>\n",
              "      <td>1</td>\n",
              "    </tr>\n",
              "    <tr>\n",
              "      <th>7612</th>\n",
              "      <td>10873</td>\n",
              "      <td>NaN</td>\n",
              "      <td>NaN</td>\n",
              "      <td>The Latest: More Homes Razed by Northern Calif...</td>\n",
              "      <td>1</td>\n",
              "    </tr>\n",
              "  </tbody>\n",
              "</table>\n",
              "<p>7613 rows × 5 columns</p>\n",
              "</div>\n",
              "    <div class=\"colab-df-buttons\">\n",
              "\n",
              "  <div class=\"colab-df-container\">\n",
              "    <button class=\"colab-df-convert\" onclick=\"convertToInteractive('df-21fd1619-5229-4722-b7ef-0c4d25ecc2f0')\"\n",
              "            title=\"Convert this dataframe to an interactive table.\"\n",
              "            style=\"display:none;\">\n",
              "\n",
              "  <svg xmlns=\"http://www.w3.org/2000/svg\" height=\"24px\" viewBox=\"0 -960 960 960\">\n",
              "    <path d=\"M120-120v-720h720v720H120Zm60-500h600v-160H180v160Zm220 220h160v-160H400v160Zm0 220h160v-160H400v160ZM180-400h160v-160H180v160Zm440 0h160v-160H620v160ZM180-180h160v-160H180v160Zm440 0h160v-160H620v160Z\"/>\n",
              "  </svg>\n",
              "    </button>\n",
              "\n",
              "  <style>\n",
              "    .colab-df-container {\n",
              "      display:flex;\n",
              "      gap: 12px;\n",
              "    }\n",
              "\n",
              "    .colab-df-convert {\n",
              "      background-color: #E8F0FE;\n",
              "      border: none;\n",
              "      border-radius: 50%;\n",
              "      cursor: pointer;\n",
              "      display: none;\n",
              "      fill: #1967D2;\n",
              "      height: 32px;\n",
              "      padding: 0 0 0 0;\n",
              "      width: 32px;\n",
              "    }\n",
              "\n",
              "    .colab-df-convert:hover {\n",
              "      background-color: #E2EBFA;\n",
              "      box-shadow: 0px 1px 2px rgba(60, 64, 67, 0.3), 0px 1px 3px 1px rgba(60, 64, 67, 0.15);\n",
              "      fill: #174EA6;\n",
              "    }\n",
              "\n",
              "    .colab-df-buttons div {\n",
              "      margin-bottom: 4px;\n",
              "    }\n",
              "\n",
              "    [theme=dark] .colab-df-convert {\n",
              "      background-color: #3B4455;\n",
              "      fill: #D2E3FC;\n",
              "    }\n",
              "\n",
              "    [theme=dark] .colab-df-convert:hover {\n",
              "      background-color: #434B5C;\n",
              "      box-shadow: 0px 1px 3px 1px rgba(0, 0, 0, 0.15);\n",
              "      filter: drop-shadow(0px 1px 2px rgba(0, 0, 0, 0.3));\n",
              "      fill: #FFFFFF;\n",
              "    }\n",
              "  </style>\n",
              "\n",
              "    <script>\n",
              "      const buttonEl =\n",
              "        document.querySelector('#df-21fd1619-5229-4722-b7ef-0c4d25ecc2f0 button.colab-df-convert');\n",
              "      buttonEl.style.display =\n",
              "        google.colab.kernel.accessAllowed ? 'block' : 'none';\n",
              "\n",
              "      async function convertToInteractive(key) {\n",
              "        const element = document.querySelector('#df-21fd1619-5229-4722-b7ef-0c4d25ecc2f0');\n",
              "        const dataTable =\n",
              "          await google.colab.kernel.invokeFunction('convertToInteractive',\n",
              "                                                    [key], {});\n",
              "        if (!dataTable) return;\n",
              "\n",
              "        const docLinkHtml = 'Like what you see? Visit the ' +\n",
              "          '<a target=\"_blank\" href=https://colab.research.google.com/notebooks/data_table.ipynb>data table notebook</a>'\n",
              "          + ' to learn more about interactive tables.';\n",
              "        element.innerHTML = '';\n",
              "        dataTable['output_type'] = 'display_data';\n",
              "        await google.colab.output.renderOutput(dataTable, element);\n",
              "        const docLink = document.createElement('div');\n",
              "        docLink.innerHTML = docLinkHtml;\n",
              "        element.appendChild(docLink);\n",
              "      }\n",
              "    </script>\n",
              "  </div>\n",
              "\n",
              "\n",
              "<div id=\"df-04d80105-3463-470a-8312-0636eb67d7ca\">\n",
              "  <button class=\"colab-df-quickchart\" onclick=\"quickchart('df-04d80105-3463-470a-8312-0636eb67d7ca')\"\n",
              "            title=\"Suggest charts\"\n",
              "            style=\"display:none;\">\n",
              "\n",
              "<svg xmlns=\"http://www.w3.org/2000/svg\" height=\"24px\"viewBox=\"0 0 24 24\"\n",
              "     width=\"24px\">\n",
              "    <g>\n",
              "        <path d=\"M19 3H5c-1.1 0-2 .9-2 2v14c0 1.1.9 2 2 2h14c1.1 0 2-.9 2-2V5c0-1.1-.9-2-2-2zM9 17H7v-7h2v7zm4 0h-2V7h2v10zm4 0h-2v-4h2v4z\"/>\n",
              "    </g>\n",
              "</svg>\n",
              "  </button>\n",
              "\n",
              "<style>\n",
              "  .colab-df-quickchart {\n",
              "      --bg-color: #E8F0FE;\n",
              "      --fill-color: #1967D2;\n",
              "      --hover-bg-color: #E2EBFA;\n",
              "      --hover-fill-color: #174EA6;\n",
              "      --disabled-fill-color: #AAA;\n",
              "      --disabled-bg-color: #DDD;\n",
              "  }\n",
              "\n",
              "  [theme=dark] .colab-df-quickchart {\n",
              "      --bg-color: #3B4455;\n",
              "      --fill-color: #D2E3FC;\n",
              "      --hover-bg-color: #434B5C;\n",
              "      --hover-fill-color: #FFFFFF;\n",
              "      --disabled-bg-color: #3B4455;\n",
              "      --disabled-fill-color: #666;\n",
              "  }\n",
              "\n",
              "  .colab-df-quickchart {\n",
              "    background-color: var(--bg-color);\n",
              "    border: none;\n",
              "    border-radius: 50%;\n",
              "    cursor: pointer;\n",
              "    display: none;\n",
              "    fill: var(--fill-color);\n",
              "    height: 32px;\n",
              "    padding: 0;\n",
              "    width: 32px;\n",
              "  }\n",
              "\n",
              "  .colab-df-quickchart:hover {\n",
              "    background-color: var(--hover-bg-color);\n",
              "    box-shadow: 0 1px 2px rgba(60, 64, 67, 0.3), 0 1px 3px 1px rgba(60, 64, 67, 0.15);\n",
              "    fill: var(--button-hover-fill-color);\n",
              "  }\n",
              "\n",
              "  .colab-df-quickchart-complete:disabled,\n",
              "  .colab-df-quickchart-complete:disabled:hover {\n",
              "    background-color: var(--disabled-bg-color);\n",
              "    fill: var(--disabled-fill-color);\n",
              "    box-shadow: none;\n",
              "  }\n",
              "\n",
              "  .colab-df-spinner {\n",
              "    border: 2px solid var(--fill-color);\n",
              "    border-color: transparent;\n",
              "    border-bottom-color: var(--fill-color);\n",
              "    animation:\n",
              "      spin 1s steps(1) infinite;\n",
              "  }\n",
              "\n",
              "  @keyframes spin {\n",
              "    0% {\n",
              "      border-color: transparent;\n",
              "      border-bottom-color: var(--fill-color);\n",
              "      border-left-color: var(--fill-color);\n",
              "    }\n",
              "    20% {\n",
              "      border-color: transparent;\n",
              "      border-left-color: var(--fill-color);\n",
              "      border-top-color: var(--fill-color);\n",
              "    }\n",
              "    30% {\n",
              "      border-color: transparent;\n",
              "      border-left-color: var(--fill-color);\n",
              "      border-top-color: var(--fill-color);\n",
              "      border-right-color: var(--fill-color);\n",
              "    }\n",
              "    40% {\n",
              "      border-color: transparent;\n",
              "      border-right-color: var(--fill-color);\n",
              "      border-top-color: var(--fill-color);\n",
              "    }\n",
              "    60% {\n",
              "      border-color: transparent;\n",
              "      border-right-color: var(--fill-color);\n",
              "    }\n",
              "    80% {\n",
              "      border-color: transparent;\n",
              "      border-right-color: var(--fill-color);\n",
              "      border-bottom-color: var(--fill-color);\n",
              "    }\n",
              "    90% {\n",
              "      border-color: transparent;\n",
              "      border-bottom-color: var(--fill-color);\n",
              "    }\n",
              "  }\n",
              "</style>\n",
              "\n",
              "  <script>\n",
              "    async function quickchart(key) {\n",
              "      const quickchartButtonEl =\n",
              "        document.querySelector('#' + key + ' button');\n",
              "      quickchartButtonEl.disabled = true;  // To prevent multiple clicks.\n",
              "      quickchartButtonEl.classList.add('colab-df-spinner');\n",
              "      try {\n",
              "        const charts = await google.colab.kernel.invokeFunction(\n",
              "            'suggestCharts', [key], {});\n",
              "      } catch (error) {\n",
              "        console.error('Error during call to suggestCharts:', error);\n",
              "      }\n",
              "      quickchartButtonEl.classList.remove('colab-df-spinner');\n",
              "      quickchartButtonEl.classList.add('colab-df-quickchart-complete');\n",
              "    }\n",
              "    (() => {\n",
              "      let quickchartButtonEl =\n",
              "        document.querySelector('#df-04d80105-3463-470a-8312-0636eb67d7ca button');\n",
              "      quickchartButtonEl.style.display =\n",
              "        google.colab.kernel.accessAllowed ? 'block' : 'none';\n",
              "    })();\n",
              "  </script>\n",
              "</div>\n",
              "\n",
              "  <div id=\"id_34906c4d-62d7-4483-81b6-a6b62cf027b8\">\n",
              "    <style>\n",
              "      .colab-df-generate {\n",
              "        background-color: #E8F0FE;\n",
              "        border: none;\n",
              "        border-radius: 50%;\n",
              "        cursor: pointer;\n",
              "        display: none;\n",
              "        fill: #1967D2;\n",
              "        height: 32px;\n",
              "        padding: 0 0 0 0;\n",
              "        width: 32px;\n",
              "      }\n",
              "\n",
              "      .colab-df-generate:hover {\n",
              "        background-color: #E2EBFA;\n",
              "        box-shadow: 0px 1px 2px rgba(60, 64, 67, 0.3), 0px 1px 3px 1px rgba(60, 64, 67, 0.15);\n",
              "        fill: #174EA6;\n",
              "      }\n",
              "\n",
              "      [theme=dark] .colab-df-generate {\n",
              "        background-color: #3B4455;\n",
              "        fill: #D2E3FC;\n",
              "      }\n",
              "\n",
              "      [theme=dark] .colab-df-generate:hover {\n",
              "        background-color: #434B5C;\n",
              "        box-shadow: 0px 1px 3px 1px rgba(0, 0, 0, 0.15);\n",
              "        filter: drop-shadow(0px 1px 2px rgba(0, 0, 0, 0.3));\n",
              "        fill: #FFFFFF;\n",
              "      }\n",
              "    </style>\n",
              "    <button class=\"colab-df-generate\" onclick=\"generateWithVariable('df_train')\"\n",
              "            title=\"Generate code using this dataframe.\"\n",
              "            style=\"display:none;\">\n",
              "\n",
              "  <svg xmlns=\"http://www.w3.org/2000/svg\" height=\"24px\"viewBox=\"0 0 24 24\"\n",
              "       width=\"24px\">\n",
              "    <path d=\"M7,19H8.4L18.45,9,17,7.55,7,17.6ZM5,21V16.75L18.45,3.32a2,2,0,0,1,2.83,0l1.4,1.43a1.91,1.91,0,0,1,.58,1.4,1.91,1.91,0,0,1-.58,1.4L9.25,21ZM18.45,9,17,7.55Zm-12,3A5.31,5.31,0,0,0,4.9,8.1,5.31,5.31,0,0,0,1,6.5,5.31,5.31,0,0,0,4.9,4.9,5.31,5.31,0,0,0,6.5,1,5.31,5.31,0,0,0,8.1,4.9,5.31,5.31,0,0,0,12,6.5,5.46,5.46,0,0,0,6.5,12Z\"/>\n",
              "  </svg>\n",
              "    </button>\n",
              "    <script>\n",
              "      (() => {\n",
              "      const buttonEl =\n",
              "        document.querySelector('#id_34906c4d-62d7-4483-81b6-a6b62cf027b8 button.colab-df-generate');\n",
              "      buttonEl.style.display =\n",
              "        google.colab.kernel.accessAllowed ? 'block' : 'none';\n",
              "\n",
              "      buttonEl.onclick = () => {\n",
              "        google.colab.notebook.generateWithVariable('df_train');\n",
              "      }\n",
              "      })();\n",
              "    </script>\n",
              "  </div>\n",
              "\n",
              "    </div>\n",
              "  </div>\n"
            ],
            "application/vnd.google.colaboratory.intrinsic+json": {
              "type": "dataframe",
              "variable_name": "df_train",
              "summary": "{\n  \"name\": \"df_train\",\n  \"rows\": 7613,\n  \"fields\": [\n    {\n      \"column\": \"id\",\n      \"properties\": {\n        \"dtype\": \"number\",\n        \"std\": 3137,\n        \"min\": 1,\n        \"max\": 10873,\n        \"num_unique_values\": 7613,\n        \"samples\": [\n          3796,\n          3185,\n          7769\n        ],\n        \"semantic_type\": \"\",\n        \"description\": \"\"\n      }\n    },\n    {\n      \"column\": \"keyword\",\n      \"properties\": {\n        \"dtype\": \"category\",\n        \"num_unique_values\": 221,\n        \"samples\": [\n          \"injury\",\n          \"nuclear%20reactor\",\n          \"engulfed\"\n        ],\n        \"semantic_type\": \"\",\n        \"description\": \"\"\n      }\n    },\n    {\n      \"column\": \"location\",\n      \"properties\": {\n        \"dtype\": \"category\",\n        \"num_unique_values\": 3341,\n        \"samples\": [\n          \"Oklahoma\",\n          \"Starling City\",\n          \"Trinidad and Tobago\"\n        ],\n        \"semantic_type\": \"\",\n        \"description\": \"\"\n      }\n    },\n    {\n      \"column\": \"text\",\n      \"properties\": {\n        \"dtype\": \"string\",\n        \"num_unique_values\": 7503,\n        \"samples\": [\n          \"Three Homes Demolished in Unrecognized Arab Village - International Middle East Media Center http://t.co/ik8m4Yi9T4\",\n          \"Reid Lake fire prompts campground evacuation order http://t.co/jBODKM6rBU\",\n          \"FAAN orders evacuation of abandoned aircraft at MMA http://t.co/dEvYbnVXGQ via @todayng\"\n        ],\n        \"semantic_type\": \"\",\n        \"description\": \"\"\n      }\n    },\n    {\n      \"column\": \"target\",\n      \"properties\": {\n        \"dtype\": \"number\",\n        \"std\": 0,\n        \"min\": 0,\n        \"max\": 1,\n        \"num_unique_values\": 2,\n        \"samples\": [\n          0,\n          1\n        ],\n        \"semantic_type\": \"\",\n        \"description\": \"\"\n      }\n    }\n  ]\n}"
            }
          },
          "metadata": {},
          "execution_count": 4
        }
      ],
      "source": [
        "# print the train set\n",
        "df_train"
      ]
    },
    {
      "cell_type": "markdown",
      "metadata": {
        "id": "GD7qTwUXSkUx"
      },
      "source": [
        "Display the `test` set:"
      ]
    },
    {
      "cell_type": "code",
      "execution_count": 5,
      "metadata": {
        "id": "Vq0bDhiJSkUx",
        "outputId": "79db7dfb-7f32-4479-a99d-f17204e98a2d",
        "colab": {
          "base_uri": "https://localhost:8080/",
          "height": 424
        }
      },
      "outputs": [
        {
          "output_type": "execute_result",
          "data": {
            "text/plain": [
              "         id keyword location  \\\n",
              "0         0     NaN      NaN   \n",
              "1         2     NaN      NaN   \n",
              "2         3     NaN      NaN   \n",
              "3         9     NaN      NaN   \n",
              "4        11     NaN      NaN   \n",
              "...     ...     ...      ...   \n",
              "3258  10861     NaN      NaN   \n",
              "3259  10865     NaN      NaN   \n",
              "3260  10868     NaN      NaN   \n",
              "3261  10874     NaN      NaN   \n",
              "3262  10875     NaN      NaN   \n",
              "\n",
              "                                                   text  \n",
              "0                    Just happened a terrible car crash  \n",
              "1     Heard about #earthquake is different cities, s...  \n",
              "2     there is a forest fire at spot pond, geese are...  \n",
              "3              Apocalypse lighting. #Spokane #wildfires  \n",
              "4         Typhoon Soudelor kills 28 in China and Taiwan  \n",
              "...                                                 ...  \n",
              "3258  EARTHQUAKE SAFETY LOS ANGELES ÛÒ SAFETY FASTE...  \n",
              "3259  Storm in RI worse than last hurricane. My city...  \n",
              "3260  Green Line derailment in Chicago http://t.co/U...  \n",
              "3261  MEG issues Hazardous Weather Outlook (HWO) htt...  \n",
              "3262  #CityofCalgary has activated its Municipal Eme...  \n",
              "\n",
              "[3263 rows x 4 columns]"
            ],
            "text/html": [
              "\n",
              "  <div id=\"df-10b457e6-2f6b-451c-be74-a346e4686cc2\" class=\"colab-df-container\">\n",
              "    <div>\n",
              "<style scoped>\n",
              "    .dataframe tbody tr th:only-of-type {\n",
              "        vertical-align: middle;\n",
              "    }\n",
              "\n",
              "    .dataframe tbody tr th {\n",
              "        vertical-align: top;\n",
              "    }\n",
              "\n",
              "    .dataframe thead th {\n",
              "        text-align: right;\n",
              "    }\n",
              "</style>\n",
              "<table border=\"1\" class=\"dataframe\">\n",
              "  <thead>\n",
              "    <tr style=\"text-align: right;\">\n",
              "      <th></th>\n",
              "      <th>id</th>\n",
              "      <th>keyword</th>\n",
              "      <th>location</th>\n",
              "      <th>text</th>\n",
              "    </tr>\n",
              "  </thead>\n",
              "  <tbody>\n",
              "    <tr>\n",
              "      <th>0</th>\n",
              "      <td>0</td>\n",
              "      <td>NaN</td>\n",
              "      <td>NaN</td>\n",
              "      <td>Just happened a terrible car crash</td>\n",
              "    </tr>\n",
              "    <tr>\n",
              "      <th>1</th>\n",
              "      <td>2</td>\n",
              "      <td>NaN</td>\n",
              "      <td>NaN</td>\n",
              "      <td>Heard about #earthquake is different cities, s...</td>\n",
              "    </tr>\n",
              "    <tr>\n",
              "      <th>2</th>\n",
              "      <td>3</td>\n",
              "      <td>NaN</td>\n",
              "      <td>NaN</td>\n",
              "      <td>there is a forest fire at spot pond, geese are...</td>\n",
              "    </tr>\n",
              "    <tr>\n",
              "      <th>3</th>\n",
              "      <td>9</td>\n",
              "      <td>NaN</td>\n",
              "      <td>NaN</td>\n",
              "      <td>Apocalypse lighting. #Spokane #wildfires</td>\n",
              "    </tr>\n",
              "    <tr>\n",
              "      <th>4</th>\n",
              "      <td>11</td>\n",
              "      <td>NaN</td>\n",
              "      <td>NaN</td>\n",
              "      <td>Typhoon Soudelor kills 28 in China and Taiwan</td>\n",
              "    </tr>\n",
              "    <tr>\n",
              "      <th>...</th>\n",
              "      <td>...</td>\n",
              "      <td>...</td>\n",
              "      <td>...</td>\n",
              "      <td>...</td>\n",
              "    </tr>\n",
              "    <tr>\n",
              "      <th>3258</th>\n",
              "      <td>10861</td>\n",
              "      <td>NaN</td>\n",
              "      <td>NaN</td>\n",
              "      <td>EARTHQUAKE SAFETY LOS ANGELES ÛÒ SAFETY FASTE...</td>\n",
              "    </tr>\n",
              "    <tr>\n",
              "      <th>3259</th>\n",
              "      <td>10865</td>\n",
              "      <td>NaN</td>\n",
              "      <td>NaN</td>\n",
              "      <td>Storm in RI worse than last hurricane. My city...</td>\n",
              "    </tr>\n",
              "    <tr>\n",
              "      <th>3260</th>\n",
              "      <td>10868</td>\n",
              "      <td>NaN</td>\n",
              "      <td>NaN</td>\n",
              "      <td>Green Line derailment in Chicago http://t.co/U...</td>\n",
              "    </tr>\n",
              "    <tr>\n",
              "      <th>3261</th>\n",
              "      <td>10874</td>\n",
              "      <td>NaN</td>\n",
              "      <td>NaN</td>\n",
              "      <td>MEG issues Hazardous Weather Outlook (HWO) htt...</td>\n",
              "    </tr>\n",
              "    <tr>\n",
              "      <th>3262</th>\n",
              "      <td>10875</td>\n",
              "      <td>NaN</td>\n",
              "      <td>NaN</td>\n",
              "      <td>#CityofCalgary has activated its Municipal Eme...</td>\n",
              "    </tr>\n",
              "  </tbody>\n",
              "</table>\n",
              "<p>3263 rows × 4 columns</p>\n",
              "</div>\n",
              "    <div class=\"colab-df-buttons\">\n",
              "\n",
              "  <div class=\"colab-df-container\">\n",
              "    <button class=\"colab-df-convert\" onclick=\"convertToInteractive('df-10b457e6-2f6b-451c-be74-a346e4686cc2')\"\n",
              "            title=\"Convert this dataframe to an interactive table.\"\n",
              "            style=\"display:none;\">\n",
              "\n",
              "  <svg xmlns=\"http://www.w3.org/2000/svg\" height=\"24px\" viewBox=\"0 -960 960 960\">\n",
              "    <path d=\"M120-120v-720h720v720H120Zm60-500h600v-160H180v160Zm220 220h160v-160H400v160Zm0 220h160v-160H400v160ZM180-400h160v-160H180v160Zm440 0h160v-160H620v160ZM180-180h160v-160H180v160Zm440 0h160v-160H620v160Z\"/>\n",
              "  </svg>\n",
              "    </button>\n",
              "\n",
              "  <style>\n",
              "    .colab-df-container {\n",
              "      display:flex;\n",
              "      gap: 12px;\n",
              "    }\n",
              "\n",
              "    .colab-df-convert {\n",
              "      background-color: #E8F0FE;\n",
              "      border: none;\n",
              "      border-radius: 50%;\n",
              "      cursor: pointer;\n",
              "      display: none;\n",
              "      fill: #1967D2;\n",
              "      height: 32px;\n",
              "      padding: 0 0 0 0;\n",
              "      width: 32px;\n",
              "    }\n",
              "\n",
              "    .colab-df-convert:hover {\n",
              "      background-color: #E2EBFA;\n",
              "      box-shadow: 0px 1px 2px rgba(60, 64, 67, 0.3), 0px 1px 3px 1px rgba(60, 64, 67, 0.15);\n",
              "      fill: #174EA6;\n",
              "    }\n",
              "\n",
              "    .colab-df-buttons div {\n",
              "      margin-bottom: 4px;\n",
              "    }\n",
              "\n",
              "    [theme=dark] .colab-df-convert {\n",
              "      background-color: #3B4455;\n",
              "      fill: #D2E3FC;\n",
              "    }\n",
              "\n",
              "    [theme=dark] .colab-df-convert:hover {\n",
              "      background-color: #434B5C;\n",
              "      box-shadow: 0px 1px 3px 1px rgba(0, 0, 0, 0.15);\n",
              "      filter: drop-shadow(0px 1px 2px rgba(0, 0, 0, 0.3));\n",
              "      fill: #FFFFFF;\n",
              "    }\n",
              "  </style>\n",
              "\n",
              "    <script>\n",
              "      const buttonEl =\n",
              "        document.querySelector('#df-10b457e6-2f6b-451c-be74-a346e4686cc2 button.colab-df-convert');\n",
              "      buttonEl.style.display =\n",
              "        google.colab.kernel.accessAllowed ? 'block' : 'none';\n",
              "\n",
              "      async function convertToInteractive(key) {\n",
              "        const element = document.querySelector('#df-10b457e6-2f6b-451c-be74-a346e4686cc2');\n",
              "        const dataTable =\n",
              "          await google.colab.kernel.invokeFunction('convertToInteractive',\n",
              "                                                    [key], {});\n",
              "        if (!dataTable) return;\n",
              "\n",
              "        const docLinkHtml = 'Like what you see? Visit the ' +\n",
              "          '<a target=\"_blank\" href=https://colab.research.google.com/notebooks/data_table.ipynb>data table notebook</a>'\n",
              "          + ' to learn more about interactive tables.';\n",
              "        element.innerHTML = '';\n",
              "        dataTable['output_type'] = 'display_data';\n",
              "        await google.colab.output.renderOutput(dataTable, element);\n",
              "        const docLink = document.createElement('div');\n",
              "        docLink.innerHTML = docLinkHtml;\n",
              "        element.appendChild(docLink);\n",
              "      }\n",
              "    </script>\n",
              "  </div>\n",
              "\n",
              "\n",
              "<div id=\"df-cd672dba-36c2-4ea4-8bff-1fb91eb8e967\">\n",
              "  <button class=\"colab-df-quickchart\" onclick=\"quickchart('df-cd672dba-36c2-4ea4-8bff-1fb91eb8e967')\"\n",
              "            title=\"Suggest charts\"\n",
              "            style=\"display:none;\">\n",
              "\n",
              "<svg xmlns=\"http://www.w3.org/2000/svg\" height=\"24px\"viewBox=\"0 0 24 24\"\n",
              "     width=\"24px\">\n",
              "    <g>\n",
              "        <path d=\"M19 3H5c-1.1 0-2 .9-2 2v14c0 1.1.9 2 2 2h14c1.1 0 2-.9 2-2V5c0-1.1-.9-2-2-2zM9 17H7v-7h2v7zm4 0h-2V7h2v10zm4 0h-2v-4h2v4z\"/>\n",
              "    </g>\n",
              "</svg>\n",
              "  </button>\n",
              "\n",
              "<style>\n",
              "  .colab-df-quickchart {\n",
              "      --bg-color: #E8F0FE;\n",
              "      --fill-color: #1967D2;\n",
              "      --hover-bg-color: #E2EBFA;\n",
              "      --hover-fill-color: #174EA6;\n",
              "      --disabled-fill-color: #AAA;\n",
              "      --disabled-bg-color: #DDD;\n",
              "  }\n",
              "\n",
              "  [theme=dark] .colab-df-quickchart {\n",
              "      --bg-color: #3B4455;\n",
              "      --fill-color: #D2E3FC;\n",
              "      --hover-bg-color: #434B5C;\n",
              "      --hover-fill-color: #FFFFFF;\n",
              "      --disabled-bg-color: #3B4455;\n",
              "      --disabled-fill-color: #666;\n",
              "  }\n",
              "\n",
              "  .colab-df-quickchart {\n",
              "    background-color: var(--bg-color);\n",
              "    border: none;\n",
              "    border-radius: 50%;\n",
              "    cursor: pointer;\n",
              "    display: none;\n",
              "    fill: var(--fill-color);\n",
              "    height: 32px;\n",
              "    padding: 0;\n",
              "    width: 32px;\n",
              "  }\n",
              "\n",
              "  .colab-df-quickchart:hover {\n",
              "    background-color: var(--hover-bg-color);\n",
              "    box-shadow: 0 1px 2px rgba(60, 64, 67, 0.3), 0 1px 3px 1px rgba(60, 64, 67, 0.15);\n",
              "    fill: var(--button-hover-fill-color);\n",
              "  }\n",
              "\n",
              "  .colab-df-quickchart-complete:disabled,\n",
              "  .colab-df-quickchart-complete:disabled:hover {\n",
              "    background-color: var(--disabled-bg-color);\n",
              "    fill: var(--disabled-fill-color);\n",
              "    box-shadow: none;\n",
              "  }\n",
              "\n",
              "  .colab-df-spinner {\n",
              "    border: 2px solid var(--fill-color);\n",
              "    border-color: transparent;\n",
              "    border-bottom-color: var(--fill-color);\n",
              "    animation:\n",
              "      spin 1s steps(1) infinite;\n",
              "  }\n",
              "\n",
              "  @keyframes spin {\n",
              "    0% {\n",
              "      border-color: transparent;\n",
              "      border-bottom-color: var(--fill-color);\n",
              "      border-left-color: var(--fill-color);\n",
              "    }\n",
              "    20% {\n",
              "      border-color: transparent;\n",
              "      border-left-color: var(--fill-color);\n",
              "      border-top-color: var(--fill-color);\n",
              "    }\n",
              "    30% {\n",
              "      border-color: transparent;\n",
              "      border-left-color: var(--fill-color);\n",
              "      border-top-color: var(--fill-color);\n",
              "      border-right-color: var(--fill-color);\n",
              "    }\n",
              "    40% {\n",
              "      border-color: transparent;\n",
              "      border-right-color: var(--fill-color);\n",
              "      border-top-color: var(--fill-color);\n",
              "    }\n",
              "    60% {\n",
              "      border-color: transparent;\n",
              "      border-right-color: var(--fill-color);\n",
              "    }\n",
              "    80% {\n",
              "      border-color: transparent;\n",
              "      border-right-color: var(--fill-color);\n",
              "      border-bottom-color: var(--fill-color);\n",
              "    }\n",
              "    90% {\n",
              "      border-color: transparent;\n",
              "      border-bottom-color: var(--fill-color);\n",
              "    }\n",
              "  }\n",
              "</style>\n",
              "\n",
              "  <script>\n",
              "    async function quickchart(key) {\n",
              "      const quickchartButtonEl =\n",
              "        document.querySelector('#' + key + ' button');\n",
              "      quickchartButtonEl.disabled = true;  // To prevent multiple clicks.\n",
              "      quickchartButtonEl.classList.add('colab-df-spinner');\n",
              "      try {\n",
              "        const charts = await google.colab.kernel.invokeFunction(\n",
              "            'suggestCharts', [key], {});\n",
              "      } catch (error) {\n",
              "        console.error('Error during call to suggestCharts:', error);\n",
              "      }\n",
              "      quickchartButtonEl.classList.remove('colab-df-spinner');\n",
              "      quickchartButtonEl.classList.add('colab-df-quickchart-complete');\n",
              "    }\n",
              "    (() => {\n",
              "      let quickchartButtonEl =\n",
              "        document.querySelector('#df-cd672dba-36c2-4ea4-8bff-1fb91eb8e967 button');\n",
              "      quickchartButtonEl.style.display =\n",
              "        google.colab.kernel.accessAllowed ? 'block' : 'none';\n",
              "    })();\n",
              "  </script>\n",
              "</div>\n",
              "\n",
              "  <div id=\"id_e0a14342-754e-4e61-9f25-915c0e907d77\">\n",
              "    <style>\n",
              "      .colab-df-generate {\n",
              "        background-color: #E8F0FE;\n",
              "        border: none;\n",
              "        border-radius: 50%;\n",
              "        cursor: pointer;\n",
              "        display: none;\n",
              "        fill: #1967D2;\n",
              "        height: 32px;\n",
              "        padding: 0 0 0 0;\n",
              "        width: 32px;\n",
              "      }\n",
              "\n",
              "      .colab-df-generate:hover {\n",
              "        background-color: #E2EBFA;\n",
              "        box-shadow: 0px 1px 2px rgba(60, 64, 67, 0.3), 0px 1px 3px 1px rgba(60, 64, 67, 0.15);\n",
              "        fill: #174EA6;\n",
              "      }\n",
              "\n",
              "      [theme=dark] .colab-df-generate {\n",
              "        background-color: #3B4455;\n",
              "        fill: #D2E3FC;\n",
              "      }\n",
              "\n",
              "      [theme=dark] .colab-df-generate:hover {\n",
              "        background-color: #434B5C;\n",
              "        box-shadow: 0px 1px 3px 1px rgba(0, 0, 0, 0.15);\n",
              "        filter: drop-shadow(0px 1px 2px rgba(0, 0, 0, 0.3));\n",
              "        fill: #FFFFFF;\n",
              "      }\n",
              "    </style>\n",
              "    <button class=\"colab-df-generate\" onclick=\"generateWithVariable('df_test')\"\n",
              "            title=\"Generate code using this dataframe.\"\n",
              "            style=\"display:none;\">\n",
              "\n",
              "  <svg xmlns=\"http://www.w3.org/2000/svg\" height=\"24px\"viewBox=\"0 0 24 24\"\n",
              "       width=\"24px\">\n",
              "    <path d=\"M7,19H8.4L18.45,9,17,7.55,7,17.6ZM5,21V16.75L18.45,3.32a2,2,0,0,1,2.83,0l1.4,1.43a1.91,1.91,0,0,1,.58,1.4,1.91,1.91,0,0,1-.58,1.4L9.25,21ZM18.45,9,17,7.55Zm-12,3A5.31,5.31,0,0,0,4.9,8.1,5.31,5.31,0,0,0,1,6.5,5.31,5.31,0,0,0,4.9,4.9,5.31,5.31,0,0,0,6.5,1,5.31,5.31,0,0,0,8.1,4.9,5.31,5.31,0,0,0,12,6.5,5.46,5.46,0,0,0,6.5,12Z\"/>\n",
              "  </svg>\n",
              "    </button>\n",
              "    <script>\n",
              "      (() => {\n",
              "      const buttonEl =\n",
              "        document.querySelector('#id_e0a14342-754e-4e61-9f25-915c0e907d77 button.colab-df-generate');\n",
              "      buttonEl.style.display =\n",
              "        google.colab.kernel.accessAllowed ? 'block' : 'none';\n",
              "\n",
              "      buttonEl.onclick = () => {\n",
              "        google.colab.notebook.generateWithVariable('df_test');\n",
              "      }\n",
              "      })();\n",
              "    </script>\n",
              "  </div>\n",
              "\n",
              "    </div>\n",
              "  </div>\n"
            ],
            "application/vnd.google.colaboratory.intrinsic+json": {
              "type": "dataframe",
              "variable_name": "df_test",
              "summary": "{\n  \"name\": \"df_test\",\n  \"rows\": 3263,\n  \"fields\": [\n    {\n      \"column\": \"id\",\n      \"properties\": {\n        \"dtype\": \"number\",\n        \"std\": 3146,\n        \"min\": 0,\n        \"max\": 10875,\n        \"num_unique_values\": 3263,\n        \"samples\": [\n          8051,\n          425,\n          1330\n        ],\n        \"semantic_type\": \"\",\n        \"description\": \"\"\n      }\n    },\n    {\n      \"column\": \"keyword\",\n      \"properties\": {\n        \"dtype\": \"category\",\n        \"num_unique_values\": 221,\n        \"samples\": [\n          \"injury\",\n          \"nuclear%20reactor\",\n          \"engulfed\"\n        ],\n        \"semantic_type\": \"\",\n        \"description\": \"\"\n      }\n    },\n    {\n      \"column\": \"location\",\n      \"properties\": {\n        \"dtype\": \"category\",\n        \"num_unique_values\": 1602,\n        \"samples\": [\n          \"UAE\",\n          \"Tokio / Tokyo\",\n          \"Texas\"\n        ],\n        \"semantic_type\": \"\",\n        \"description\": \"\"\n      }\n    },\n    {\n      \"column\": \"text\",\n      \"properties\": {\n        \"dtype\": \"string\",\n        \"num_unique_values\": 3243,\n        \"samples\": [\n          \"Latest: USA: Huge sinkhole swallows up Brooklyn intersection http://t.co/vspKHg3nZy\",\n          \"I liked a @YouTube video http://t.co/a5YTAw9Vih S.O.S. Rona Guide - The Red Whirlwind\",\n          \"HitchBot travels Europe and greeted with open arms. Gets destroyed after two weeks in america. There's a lesson to be learned here.\"\n        ],\n        \"semantic_type\": \"\",\n        \"description\": \"\"\n      }\n    }\n  ]\n}"
            }
          },
          "metadata": {},
          "execution_count": 5
        }
      ],
      "source": [
        "# print the test set\n",
        "df_test"
      ]
    },
    {
      "cell_type": "markdown",
      "metadata": {
        "id": "IoBX0cLTSkUx"
      },
      "source": [
        "Display the sample solution set:"
      ]
    },
    {
      "cell_type": "code",
      "execution_count": 6,
      "metadata": {
        "id": "drLx8oJlSkUx",
        "outputId": "0bff3cc8-ae63-4ecc-8647-bc28bb53417d",
        "colab": {
          "base_uri": "https://localhost:8080/",
          "height": 424
        }
      },
      "outputs": [
        {
          "output_type": "execute_result",
          "data": {
            "text/plain": [
              "         id  target\n",
              "0         0       0\n",
              "1         2       0\n",
              "2         3       0\n",
              "3         9       0\n",
              "4        11       0\n",
              "...     ...     ...\n",
              "3258  10861       0\n",
              "3259  10865       0\n",
              "3260  10868       0\n",
              "3261  10874       0\n",
              "3262  10875       0\n",
              "\n",
              "[3263 rows x 2 columns]"
            ],
            "text/html": [
              "\n",
              "  <div id=\"df-17c3b150-731c-4e4a-a946-660e7a2e6d53\" class=\"colab-df-container\">\n",
              "    <div>\n",
              "<style scoped>\n",
              "    .dataframe tbody tr th:only-of-type {\n",
              "        vertical-align: middle;\n",
              "    }\n",
              "\n",
              "    .dataframe tbody tr th {\n",
              "        vertical-align: top;\n",
              "    }\n",
              "\n",
              "    .dataframe thead th {\n",
              "        text-align: right;\n",
              "    }\n",
              "</style>\n",
              "<table border=\"1\" class=\"dataframe\">\n",
              "  <thead>\n",
              "    <tr style=\"text-align: right;\">\n",
              "      <th></th>\n",
              "      <th>id</th>\n",
              "      <th>target</th>\n",
              "    </tr>\n",
              "  </thead>\n",
              "  <tbody>\n",
              "    <tr>\n",
              "      <th>0</th>\n",
              "      <td>0</td>\n",
              "      <td>0</td>\n",
              "    </tr>\n",
              "    <tr>\n",
              "      <th>1</th>\n",
              "      <td>2</td>\n",
              "      <td>0</td>\n",
              "    </tr>\n",
              "    <tr>\n",
              "      <th>2</th>\n",
              "      <td>3</td>\n",
              "      <td>0</td>\n",
              "    </tr>\n",
              "    <tr>\n",
              "      <th>3</th>\n",
              "      <td>9</td>\n",
              "      <td>0</td>\n",
              "    </tr>\n",
              "    <tr>\n",
              "      <th>4</th>\n",
              "      <td>11</td>\n",
              "      <td>0</td>\n",
              "    </tr>\n",
              "    <tr>\n",
              "      <th>...</th>\n",
              "      <td>...</td>\n",
              "      <td>...</td>\n",
              "    </tr>\n",
              "    <tr>\n",
              "      <th>3258</th>\n",
              "      <td>10861</td>\n",
              "      <td>0</td>\n",
              "    </tr>\n",
              "    <tr>\n",
              "      <th>3259</th>\n",
              "      <td>10865</td>\n",
              "      <td>0</td>\n",
              "    </tr>\n",
              "    <tr>\n",
              "      <th>3260</th>\n",
              "      <td>10868</td>\n",
              "      <td>0</td>\n",
              "    </tr>\n",
              "    <tr>\n",
              "      <th>3261</th>\n",
              "      <td>10874</td>\n",
              "      <td>0</td>\n",
              "    </tr>\n",
              "    <tr>\n",
              "      <th>3262</th>\n",
              "      <td>10875</td>\n",
              "      <td>0</td>\n",
              "    </tr>\n",
              "  </tbody>\n",
              "</table>\n",
              "<p>3263 rows × 2 columns</p>\n",
              "</div>\n",
              "    <div class=\"colab-df-buttons\">\n",
              "\n",
              "  <div class=\"colab-df-container\">\n",
              "    <button class=\"colab-df-convert\" onclick=\"convertToInteractive('df-17c3b150-731c-4e4a-a946-660e7a2e6d53')\"\n",
              "            title=\"Convert this dataframe to an interactive table.\"\n",
              "            style=\"display:none;\">\n",
              "\n",
              "  <svg xmlns=\"http://www.w3.org/2000/svg\" height=\"24px\" viewBox=\"0 -960 960 960\">\n",
              "    <path d=\"M120-120v-720h720v720H120Zm60-500h600v-160H180v160Zm220 220h160v-160H400v160Zm0 220h160v-160H400v160ZM180-400h160v-160H180v160Zm440 0h160v-160H620v160ZM180-180h160v-160H180v160Zm440 0h160v-160H620v160Z\"/>\n",
              "  </svg>\n",
              "    </button>\n",
              "\n",
              "  <style>\n",
              "    .colab-df-container {\n",
              "      display:flex;\n",
              "      gap: 12px;\n",
              "    }\n",
              "\n",
              "    .colab-df-convert {\n",
              "      background-color: #E8F0FE;\n",
              "      border: none;\n",
              "      border-radius: 50%;\n",
              "      cursor: pointer;\n",
              "      display: none;\n",
              "      fill: #1967D2;\n",
              "      height: 32px;\n",
              "      padding: 0 0 0 0;\n",
              "      width: 32px;\n",
              "    }\n",
              "\n",
              "    .colab-df-convert:hover {\n",
              "      background-color: #E2EBFA;\n",
              "      box-shadow: 0px 1px 2px rgba(60, 64, 67, 0.3), 0px 1px 3px 1px rgba(60, 64, 67, 0.15);\n",
              "      fill: #174EA6;\n",
              "    }\n",
              "\n",
              "    .colab-df-buttons div {\n",
              "      margin-bottom: 4px;\n",
              "    }\n",
              "\n",
              "    [theme=dark] .colab-df-convert {\n",
              "      background-color: #3B4455;\n",
              "      fill: #D2E3FC;\n",
              "    }\n",
              "\n",
              "    [theme=dark] .colab-df-convert:hover {\n",
              "      background-color: #434B5C;\n",
              "      box-shadow: 0px 1px 3px 1px rgba(0, 0, 0, 0.15);\n",
              "      filter: drop-shadow(0px 1px 2px rgba(0, 0, 0, 0.3));\n",
              "      fill: #FFFFFF;\n",
              "    }\n",
              "  </style>\n",
              "\n",
              "    <script>\n",
              "      const buttonEl =\n",
              "        document.querySelector('#df-17c3b150-731c-4e4a-a946-660e7a2e6d53 button.colab-df-convert');\n",
              "      buttonEl.style.display =\n",
              "        google.colab.kernel.accessAllowed ? 'block' : 'none';\n",
              "\n",
              "      async function convertToInteractive(key) {\n",
              "        const element = document.querySelector('#df-17c3b150-731c-4e4a-a946-660e7a2e6d53');\n",
              "        const dataTable =\n",
              "          await google.colab.kernel.invokeFunction('convertToInteractive',\n",
              "                                                    [key], {});\n",
              "        if (!dataTable) return;\n",
              "\n",
              "        const docLinkHtml = 'Like what you see? Visit the ' +\n",
              "          '<a target=\"_blank\" href=https://colab.research.google.com/notebooks/data_table.ipynb>data table notebook</a>'\n",
              "          + ' to learn more about interactive tables.';\n",
              "        element.innerHTML = '';\n",
              "        dataTable['output_type'] = 'display_data';\n",
              "        await google.colab.output.renderOutput(dataTable, element);\n",
              "        const docLink = document.createElement('div');\n",
              "        docLink.innerHTML = docLinkHtml;\n",
              "        element.appendChild(docLink);\n",
              "      }\n",
              "    </script>\n",
              "  </div>\n",
              "\n",
              "\n",
              "<div id=\"df-7a96facd-c4ce-421e-8741-7cf448a338a4\">\n",
              "  <button class=\"colab-df-quickchart\" onclick=\"quickchart('df-7a96facd-c4ce-421e-8741-7cf448a338a4')\"\n",
              "            title=\"Suggest charts\"\n",
              "            style=\"display:none;\">\n",
              "\n",
              "<svg xmlns=\"http://www.w3.org/2000/svg\" height=\"24px\"viewBox=\"0 0 24 24\"\n",
              "     width=\"24px\">\n",
              "    <g>\n",
              "        <path d=\"M19 3H5c-1.1 0-2 .9-2 2v14c0 1.1.9 2 2 2h14c1.1 0 2-.9 2-2V5c0-1.1-.9-2-2-2zM9 17H7v-7h2v7zm4 0h-2V7h2v10zm4 0h-2v-4h2v4z\"/>\n",
              "    </g>\n",
              "</svg>\n",
              "  </button>\n",
              "\n",
              "<style>\n",
              "  .colab-df-quickchart {\n",
              "      --bg-color: #E8F0FE;\n",
              "      --fill-color: #1967D2;\n",
              "      --hover-bg-color: #E2EBFA;\n",
              "      --hover-fill-color: #174EA6;\n",
              "      --disabled-fill-color: #AAA;\n",
              "      --disabled-bg-color: #DDD;\n",
              "  }\n",
              "\n",
              "  [theme=dark] .colab-df-quickchart {\n",
              "      --bg-color: #3B4455;\n",
              "      --fill-color: #D2E3FC;\n",
              "      --hover-bg-color: #434B5C;\n",
              "      --hover-fill-color: #FFFFFF;\n",
              "      --disabled-bg-color: #3B4455;\n",
              "      --disabled-fill-color: #666;\n",
              "  }\n",
              "\n",
              "  .colab-df-quickchart {\n",
              "    background-color: var(--bg-color);\n",
              "    border: none;\n",
              "    border-radius: 50%;\n",
              "    cursor: pointer;\n",
              "    display: none;\n",
              "    fill: var(--fill-color);\n",
              "    height: 32px;\n",
              "    padding: 0;\n",
              "    width: 32px;\n",
              "  }\n",
              "\n",
              "  .colab-df-quickchart:hover {\n",
              "    background-color: var(--hover-bg-color);\n",
              "    box-shadow: 0 1px 2px rgba(60, 64, 67, 0.3), 0 1px 3px 1px rgba(60, 64, 67, 0.15);\n",
              "    fill: var(--button-hover-fill-color);\n",
              "  }\n",
              "\n",
              "  .colab-df-quickchart-complete:disabled,\n",
              "  .colab-df-quickchart-complete:disabled:hover {\n",
              "    background-color: var(--disabled-bg-color);\n",
              "    fill: var(--disabled-fill-color);\n",
              "    box-shadow: none;\n",
              "  }\n",
              "\n",
              "  .colab-df-spinner {\n",
              "    border: 2px solid var(--fill-color);\n",
              "    border-color: transparent;\n",
              "    border-bottom-color: var(--fill-color);\n",
              "    animation:\n",
              "      spin 1s steps(1) infinite;\n",
              "  }\n",
              "\n",
              "  @keyframes spin {\n",
              "    0% {\n",
              "      border-color: transparent;\n",
              "      border-bottom-color: var(--fill-color);\n",
              "      border-left-color: var(--fill-color);\n",
              "    }\n",
              "    20% {\n",
              "      border-color: transparent;\n",
              "      border-left-color: var(--fill-color);\n",
              "      border-top-color: var(--fill-color);\n",
              "    }\n",
              "    30% {\n",
              "      border-color: transparent;\n",
              "      border-left-color: var(--fill-color);\n",
              "      border-top-color: var(--fill-color);\n",
              "      border-right-color: var(--fill-color);\n",
              "    }\n",
              "    40% {\n",
              "      border-color: transparent;\n",
              "      border-right-color: var(--fill-color);\n",
              "      border-top-color: var(--fill-color);\n",
              "    }\n",
              "    60% {\n",
              "      border-color: transparent;\n",
              "      border-right-color: var(--fill-color);\n",
              "    }\n",
              "    80% {\n",
              "      border-color: transparent;\n",
              "      border-right-color: var(--fill-color);\n",
              "      border-bottom-color: var(--fill-color);\n",
              "    }\n",
              "    90% {\n",
              "      border-color: transparent;\n",
              "      border-bottom-color: var(--fill-color);\n",
              "    }\n",
              "  }\n",
              "</style>\n",
              "\n",
              "  <script>\n",
              "    async function quickchart(key) {\n",
              "      const quickchartButtonEl =\n",
              "        document.querySelector('#' + key + ' button');\n",
              "      quickchartButtonEl.disabled = true;  // To prevent multiple clicks.\n",
              "      quickchartButtonEl.classList.add('colab-df-spinner');\n",
              "      try {\n",
              "        const charts = await google.colab.kernel.invokeFunction(\n",
              "            'suggestCharts', [key], {});\n",
              "      } catch (error) {\n",
              "        console.error('Error during call to suggestCharts:', error);\n",
              "      }\n",
              "      quickchartButtonEl.classList.remove('colab-df-spinner');\n",
              "      quickchartButtonEl.classList.add('colab-df-quickchart-complete');\n",
              "    }\n",
              "    (() => {\n",
              "      let quickchartButtonEl =\n",
              "        document.querySelector('#df-7a96facd-c4ce-421e-8741-7cf448a338a4 button');\n",
              "      quickchartButtonEl.style.display =\n",
              "        google.colab.kernel.accessAllowed ? 'block' : 'none';\n",
              "    })();\n",
              "  </script>\n",
              "</div>\n",
              "\n",
              "  <div id=\"id_d08a5965-c054-4849-9eed-07dfaa803cdc\">\n",
              "    <style>\n",
              "      .colab-df-generate {\n",
              "        background-color: #E8F0FE;\n",
              "        border: none;\n",
              "        border-radius: 50%;\n",
              "        cursor: pointer;\n",
              "        display: none;\n",
              "        fill: #1967D2;\n",
              "        height: 32px;\n",
              "        padding: 0 0 0 0;\n",
              "        width: 32px;\n",
              "      }\n",
              "\n",
              "      .colab-df-generate:hover {\n",
              "        background-color: #E2EBFA;\n",
              "        box-shadow: 0px 1px 2px rgba(60, 64, 67, 0.3), 0px 1px 3px 1px rgba(60, 64, 67, 0.15);\n",
              "        fill: #174EA6;\n",
              "      }\n",
              "\n",
              "      [theme=dark] .colab-df-generate {\n",
              "        background-color: #3B4455;\n",
              "        fill: #D2E3FC;\n",
              "      }\n",
              "\n",
              "      [theme=dark] .colab-df-generate:hover {\n",
              "        background-color: #434B5C;\n",
              "        box-shadow: 0px 1px 3px 1px rgba(0, 0, 0, 0.15);\n",
              "        filter: drop-shadow(0px 1px 2px rgba(0, 0, 0, 0.3));\n",
              "        fill: #FFFFFF;\n",
              "      }\n",
              "    </style>\n",
              "    <button class=\"colab-df-generate\" onclick=\"generateWithVariable('df_sample')\"\n",
              "            title=\"Generate code using this dataframe.\"\n",
              "            style=\"display:none;\">\n",
              "\n",
              "  <svg xmlns=\"http://www.w3.org/2000/svg\" height=\"24px\"viewBox=\"0 0 24 24\"\n",
              "       width=\"24px\">\n",
              "    <path d=\"M7,19H8.4L18.45,9,17,7.55,7,17.6ZM5,21V16.75L18.45,3.32a2,2,0,0,1,2.83,0l1.4,1.43a1.91,1.91,0,0,1,.58,1.4,1.91,1.91,0,0,1-.58,1.4L9.25,21ZM18.45,9,17,7.55Zm-12,3A5.31,5.31,0,0,0,4.9,8.1,5.31,5.31,0,0,0,1,6.5,5.31,5.31,0,0,0,4.9,4.9,5.31,5.31,0,0,0,6.5,1,5.31,5.31,0,0,0,8.1,4.9,5.31,5.31,0,0,0,12,6.5,5.46,5.46,0,0,0,6.5,12Z\"/>\n",
              "  </svg>\n",
              "    </button>\n",
              "    <script>\n",
              "      (() => {\n",
              "      const buttonEl =\n",
              "        document.querySelector('#id_d08a5965-c054-4849-9eed-07dfaa803cdc button.colab-df-generate');\n",
              "      buttonEl.style.display =\n",
              "        google.colab.kernel.accessAllowed ? 'block' : 'none';\n",
              "\n",
              "      buttonEl.onclick = () => {\n",
              "        google.colab.notebook.generateWithVariable('df_sample');\n",
              "      }\n",
              "      })();\n",
              "    </script>\n",
              "  </div>\n",
              "\n",
              "    </div>\n",
              "  </div>\n"
            ],
            "application/vnd.google.colaboratory.intrinsic+json": {
              "type": "dataframe",
              "variable_name": "df_sample",
              "summary": "{\n  \"name\": \"df_sample\",\n  \"rows\": 3263,\n  \"fields\": [\n    {\n      \"column\": \"id\",\n      \"properties\": {\n        \"dtype\": \"number\",\n        \"std\": 3146,\n        \"min\": 0,\n        \"max\": 10875,\n        \"num_unique_values\": 3263,\n        \"samples\": [\n          8051,\n          425,\n          1330\n        ],\n        \"semantic_type\": \"\",\n        \"description\": \"\"\n      }\n    },\n    {\n      \"column\": \"target\",\n      \"properties\": {\n        \"dtype\": \"number\",\n        \"std\": 0,\n        \"min\": 0,\n        \"max\": 0,\n        \"num_unique_values\": 1,\n        \"samples\": [\n          0\n        ],\n        \"semantic_type\": \"\",\n        \"description\": \"\"\n      }\n    }\n  ]\n}"
            }
          },
          "metadata": {},
          "execution_count": 6
        }
      ],
      "source": [
        "# print `sample_submission` set\n",
        "df_sample"
      ]
    },
    {
      "cell_type": "markdown",
      "source": [
        "### Feature Variables\n",
        "\n",
        "Let's take a look at the feature variables and target variable within the datasets."
      ],
      "metadata": {
        "id": "ndBV5tff-FTU"
      }
    },
    {
      "cell_type": "code",
      "source": [
        "# print information about the train set\n",
        "df_train.info()"
      ],
      "metadata": {
        "colab": {
          "base_uri": "https://localhost:8080/"
        },
        "id": "QP9UIw6l9epW",
        "outputId": "95d4d694-1990-478a-9ab9-83d32909e9c1"
      },
      "execution_count": 7,
      "outputs": [
        {
          "output_type": "stream",
          "name": "stdout",
          "text": [
            "<class 'pandas.core.frame.DataFrame'>\n",
            "RangeIndex: 7613 entries, 0 to 7612\n",
            "Data columns (total 5 columns):\n",
            " #   Column    Non-Null Count  Dtype \n",
            "---  ------    --------------  ----- \n",
            " 0   id        7613 non-null   int64 \n",
            " 1   keyword   7552 non-null   object\n",
            " 2   location  5080 non-null   object\n",
            " 3   text      7613 non-null   object\n",
            " 4   target    7613 non-null   int64 \n",
            "dtypes: int64(2), object(3)\n",
            "memory usage: 297.5+ KB\n"
          ]
        }
      ]
    },
    {
      "cell_type": "code",
      "source": [
        "# print information about the test set\n",
        "df_test.info()"
      ],
      "metadata": {
        "colab": {
          "base_uri": "https://localhost:8080/"
        },
        "id": "xCN_NgGb-FoO",
        "outputId": "32be4042-cff1-4b9a-9e7e-f827d0bc291c"
      },
      "execution_count": 8,
      "outputs": [
        {
          "output_type": "stream",
          "name": "stdout",
          "text": [
            "<class 'pandas.core.frame.DataFrame'>\n",
            "RangeIndex: 3263 entries, 0 to 3262\n",
            "Data columns (total 4 columns):\n",
            " #   Column    Non-Null Count  Dtype \n",
            "---  ------    --------------  ----- \n",
            " 0   id        3263 non-null   int64 \n",
            " 1   keyword   3237 non-null   object\n",
            " 2   location  2158 non-null   object\n",
            " 3   text      3263 non-null   object\n",
            "dtypes: int64(1), object(3)\n",
            "memory usage: 102.1+ KB\n"
          ]
        }
      ]
    },
    {
      "cell_type": "markdown",
      "source": [
        "From the information, we can observe that some of the variables (i.e., `keyword`, `location`) have got some missing values. This issue is more relevant in the case of the `location` with around **33%** and of the values missing in both sets.\n",
        "\n",
        "Now, let's a closer look at these two variables, to understand how to handle them."
      ],
      "metadata": {
        "id": "pTGsYp0G-lXh"
      }
    },
    {
      "cell_type": "code",
      "source": [
        "# print some of the unique values of the 'keyword' variable\n",
        "df_train['keyword'].value_counts()"
      ],
      "metadata": {
        "colab": {
          "base_uri": "https://localhost:8080/"
        },
        "id": "MjaHwXJ7_Gga",
        "outputId": "24ed556d-b9fe-4285-dad7-c5800f699e01"
      },
      "execution_count": 9,
      "outputs": [
        {
          "output_type": "execute_result",
          "data": {
            "text/plain": [
              "keyword\n",
              "fatalities               45\n",
              "armageddon               42\n",
              "deluge                   42\n",
              "harm                     41\n",
              "damage                   41\n",
              "                         ..\n",
              "forest%20fire            19\n",
              "epicentre                12\n",
              "threat                   11\n",
              "inundation               10\n",
              "radiation%20emergency     9\n",
              "Name: count, Length: 221, dtype: int64"
            ]
          },
          "metadata": {},
          "execution_count": 9
        }
      ]
    },
    {
      "cell_type": "code",
      "source": [
        "# print some of the unique values of the 'location' variable\n",
        "df_train['location'].value_counts()"
      ],
      "metadata": {
        "colab": {
          "base_uri": "https://localhost:8080/"
        },
        "id": "5RiFX3KgAx8w",
        "outputId": "ecaf2b1f-d323-4a87-df90-4280ac6e58c4"
      },
      "execution_count": 10,
      "outputs": [
        {
          "output_type": "execute_result",
          "data": {
            "text/plain": [
              "location\n",
              "USA                    104\n",
              "New York                71\n",
              "United States           50\n",
              "London                  45\n",
              "Canada                  29\n",
              "                      ... \n",
              "Some pum pum             1\n",
              "Paulton, England         1\n",
              "SEA Server               1\n",
              "todaysbigstock.com       1\n",
              "???????? ?????????.      1\n",
              "Name: count, Length: 3341, dtype: int64"
            ]
          },
          "metadata": {},
          "execution_count": 10
        }
      ]
    },
    {
      "cell_type": "markdown",
      "metadata": {
        "id": "qAKSzsUgSkUy"
      },
      "source": [
        "Having observed some the values of these two variables, the best way to handle them is dropping them from the datasets.\n",
        "\n",
        "In the case of `keyword`, the variable might mislead the model to classify wrongly the Tweets, as we don't know the basis on how this keyword was defined, factually or methaphorical.\n",
        "\n",
        "For the varaible `location`, there is no prediction power in it, as it is not consistent, in some instances it is a country, a city, a street, or even a coordinate."
      ]
    },
    {
      "cell_type": "code",
      "source": [
        "# drop 'keyword' and 'location' columns\n",
        "df_train.drop(columns=['keyword', 'location'], inplace=True)\n",
        "df_test.drop(columns=['keyword', 'location'], inplace=True)"
      ],
      "metadata": {
        "id": "J2NpNdsQbVAE"
      },
      "execution_count": 11,
      "outputs": []
    },
    {
      "cell_type": "markdown",
      "metadata": {
        "id": "33YgRe4eSkUy"
      },
      "source": [
        "### Duplicated values\n",
        "\n",
        "Next, let's check for duplicated Tweets within the datasets."
      ]
    },
    {
      "cell_type": "code",
      "execution_count": 12,
      "metadata": {
        "id": "_CzXZKRDSkUy",
        "outputId": "dc97c6c6-c8b9-4e1e-f940-6b0da2ed8ff1",
        "colab": {
          "base_uri": "https://localhost:8080/"
        }
      },
      "outputs": [
        {
          "output_type": "execute_result",
          "data": {
            "text/plain": [
              "id\n",
              "False    7613\n",
              "Name: count, dtype: int64"
            ]
          },
          "metadata": {},
          "execution_count": 12
        }
      ],
      "source": [
        "# check for duplicated Tweets in train set\n",
        "df_train['id'].duplicated().value_counts()"
      ]
    },
    {
      "cell_type": "code",
      "execution_count": 13,
      "metadata": {
        "id": "iLfjpejHSkUz",
        "outputId": "382c5504-4b2f-46d4-9826-9397fe330d04",
        "colab": {
          "base_uri": "https://localhost:8080/"
        }
      },
      "outputs": [
        {
          "output_type": "execute_result",
          "data": {
            "text/plain": [
              "id\n",
              "False    3263\n",
              "Name: count, dtype: int64"
            ]
          },
          "metadata": {},
          "execution_count": 13
        }
      ],
      "source": [
        "# check for duplicated Tweets in test set\n",
        "df_test['id'].duplicated().value_counts()"
      ]
    },
    {
      "cell_type": "markdown",
      "metadata": {
        "id": "70ox6WXFSkU5"
      },
      "source": [
        "### Data Distribution Analysis\n",
        "\n",
        "Let's get an idea of the distribution of the `target` variable."
      ]
    },
    {
      "cell_type": "code",
      "execution_count": 14,
      "metadata": {
        "id": "hGHjIJmhSkU5",
        "outputId": "55f135f2-40b5-4379-c717-4224ef534048",
        "colab": {
          "base_uri": "https://localhost:8080/",
          "height": 0
        }
      },
      "outputs": [
        {
          "output_type": "display_data",
          "data": {
            "text/plain": [
              "<Figure size 400x400 with 1 Axes>"
            ],
            "image/png": "[encoded data removed]"
          },
          "metadata": {}
        }
      ],
      "source": [
        "df_train['target'].hist(figsize=(4,4), zorder=2, rwidth=0.9)\n",
        "plt.show()"
      ]
    },
    {
      "cell_type": "markdown",
      "metadata": {
        "id": "pyaDHbYVSkU5"
      },
      "source": [
        "From the histogram, we can observe some class imbalace is present our `train` set.\n",
        "\n",
        "A predictive model trained on imbalance data might be biased towards the majority class. Therefore, we will proceed to apply a random undersampling technique to balance the classes."
      ]
    },
    {
      "cell_type": "code",
      "execution_count": 15,
      "metadata": {
        "id": "fNyU9IKISkU5",
        "outputId": "cf77bb22-7288-4f35-a336-7181fd546517",
        "colab": {
          "base_uri": "https://localhost:8080/"
        }
      },
      "outputs": [
        {
          "output_type": "execute_result",
          "data": {
            "text/plain": [
              "target\n",
              "0    4342\n",
              "1    3271\n",
              "Name: count, dtype: int64"
            ]
          },
          "metadata": {},
          "execution_count": 15
        }
      ],
      "source": [
        "# print value count for each class\n",
        "df_train['target'].value_counts()"
      ]
    },
    {
      "cell_type": "markdown",
      "source": [
        "Let's apply a typical random oversampling technique."
      ],
      "metadata": {
        "id": "0Oux4VVwQy2S"
      }
    },
    {
      "cell_type": "code",
      "execution_count": 16,
      "metadata": {
        "id": "4eVA59P7SkU5"
      },
      "outputs": [],
      "source": [
        "# transfering the minority class instances\n",
        "df_train_bal = df_train[df_train['target']==1]\n",
        "# number of sample for minority class\n",
        "sample = df_train_bal.shape[0]\n",
        "\n",
        "# add a random sample of the majority class\n",
        "df_train_bal = pd.concat([df_train_bal, df_train[df_train['target']==0].sample(n=sample, replace=False, random_state=42)])"
      ]
    },
    {
      "cell_type": "code",
      "execution_count": 17,
      "metadata": {
        "id": "nP503oTbSkU6",
        "outputId": "5c126c9a-b543-4c1c-c363-87501d2ffb28",
        "colab": {
          "base_uri": "https://localhost:8080/"
        }
      },
      "outputs": [
        {
          "output_type": "execute_result",
          "data": {
            "text/plain": [
              "target\n",
              "1    3271\n",
              "0    3271\n",
              "Name: count, dtype: int64"
            ]
          },
          "metadata": {},
          "execution_count": 17
        }
      ],
      "source": [
        "# recheck target variable distribution\n",
        "df_train_bal['target'].value_counts()"
      ]
    },
    {
      "cell_type": "markdown",
      "metadata": {
        "id": "zkXBVGsASkU6"
      },
      "source": [
        "Now we got a balance training set to work with."
      ]
    },
    {
      "cell_type": "markdown",
      "source": [
        "### Split Train Set\n",
        "\n",
        "Before proceeding with transformation, let's split our balanced train set into two sets one for training and another for validation."
      ],
      "metadata": {
        "id": "UIDwKrCvWJp1"
      }
    },
    {
      "cell_type": "code",
      "source": [
        "# split the 'df_train_bal' into training / validation\n",
        "df_train_sp, df_val_sp = train_test_split(df_train_bal, test_size=0.1, random_state=42)"
      ],
      "metadata": {
        "id": "L_hMD_BbWpaS"
      },
      "execution_count": 18,
      "outputs": []
    },
    {
      "cell_type": "code",
      "source": [
        "# print size of datasets\n",
        "print(f'Training set: {df_train_sp.shape}')\n",
        "print(f'Validation set: {df_val_sp.shape}')"
      ],
      "metadata": {
        "colab": {
          "base_uri": "https://localhost:8080/"
        },
        "id": "ABJpcrrPXfTX",
        "outputId": "62547bab-4135-40e9-9a32-ad84a8d271c0"
      },
      "execution_count": 19,
      "outputs": [
        {
          "output_type": "stream",
          "name": "stdout",
          "text": [
            "Training set: (5887, 3)\n",
            "Validation set: (655, 3)\n"
          ]
        }
      ]
    },
    {
      "cell_type": "markdown",
      "metadata": {
        "id": "KFA6CSdKSkU6"
      },
      "source": [
        "### Features Importance\n",
        "\n",
        "Now, let's process the raw text from the Tweets into feature vectors by using a *Bag of Words* approach. This involves using a Tf-idf-weighted document-term sparse matrix to encode the features, so we can observe which key words are predominat for each class."
      ]
    },
    {
      "cell_type": "markdown",
      "metadata": {
        "id": "ro7PieiPSkU6"
      },
      "source": [
        "Let's set up a function to transform the raw text into word encoding using `TfidfVectorizer`."
      ]
    },
    {
      "cell_type": "code",
      "execution_count": 20,
      "metadata": {
        "id": "Msux-q-DSkU6"
      },
      "outputs": [],
      "source": [
        "from time import time\n",
        "from sklearn.feature_extraction.text import TfidfVectorizer\n",
        "\n",
        "# compute size of data\n",
        "def size_mb(docs):\n",
        "    return sum(len(s.encode(\"utf-8\")) for s in docs) / 1e6\n",
        "\n",
        "# vectorize the text\n",
        "def vectorize_dataset(feature, target, train_set, valid_set, test_set, max_df=0.9, min_df=0.1, max_features=None, norm=None,\n",
        "                      strip_accents='ascii', stop_words='english', lowercase=True, verbose=True):\n",
        "    \"\"\"Load and vectorize the dataset.\"\"\"\n",
        "\n",
        "    # split target in a training set and a test set\n",
        "    y_train = train_set[target]\n",
        "    y_valid = valid_set[target]\n",
        "\n",
        "    # Setup vectorizer\n",
        "    vectorizer = TfidfVectorizer(max_df=max_df, min_df=min_df, max_features=max_features,\n",
        "                                 norm=norm, strip_accents=strip_accents, stop_words=stop_words, lowercase=True)\n",
        "\n",
        "    # Fit vectorizer with all texts from train, valid and test sets\n",
        "    t0 = time()\n",
        "    whole_set = pd.concat([train_set[feature], valid_set[feature], test_set[feature]])\n",
        "    vectorizer.fit(whole_set)\n",
        "    duration_vctzr = time() - t0\n",
        "\n",
        "    # Extracting features from the train set using the sparse vectorizer\n",
        "    t0 = time()\n",
        "    X_train = vectorizer.transform(train_set[feature])\n",
        "    duration_train = time() - t0\n",
        "\n",
        "    # Extracting features from the valid set using the vectorizer\n",
        "    t0 = time()\n",
        "    X_valid = vectorizer.transform(valid_set[feature])\n",
        "    duration_valid = time() - t0\n",
        "\n",
        "    # Extracting features from the test data using the vectorizer\n",
        "    t0 = time()\n",
        "    X_test = vectorizer.transform(test_set[feature])\n",
        "    duration_test = time() - t0\n",
        "\n",
        "    # Get vectorized feature names\n",
        "    feature_names = vectorizer.get_feature_names_out()\n",
        "\n",
        "    # Print information of the pre-processing\n",
        "    if verbose:\n",
        "        # compute size of loaded data\n",
        "        data_vctzr_size_mb = size_mb(whole_set)\n",
        "        data_train_size_mb = size_mb(train_set[feature])\n",
        "        data_valid_size_mb = size_mb(valid_set[feature])\n",
        "        data_test_size_mb = size_mb(test_set[feature])\n",
        "\n",
        "        # print size of datasets\n",
        "        print(f\"{len(train_set[feature])} documents - \"\n",
        "              f\"{data_train_size_mb:.2f}MB (training set)\")\n",
        "\n",
        "        print(f\"{len(valid_set[feature])} documents - \"\n",
        "              f\"{data_valid_size_mb:.2f}MB (valid set)\")\n",
        "\n",
        "        print(f\"{len(test_set[feature])} documents - \"\n",
        "              f\"{data_test_size_mb:.2f}MB (test set)\")\n",
        "\n",
        "        print(f\"vectorizer learning done in {duration_vctzr:.3f}s \"\n",
        "              f\"at {(data_vctzr_size_mb) / duration_vctzr:.3f}MB/s\")\n",
        "\n",
        "        print(f\"vectorize training done in {duration_train:.3f}s \"\n",
        "              f\"at {data_train_size_mb / duration_train:.3f}MB/s\")\n",
        "        print(f\"n_samples: {X_train.shape[0]}, n_features: {X_train.shape[1]}\")\n",
        "\n",
        "        print(f\"vectorize validation done in {duration_valid:.3f}s \"\n",
        "              f\"at {data_valid_size_mb / duration_valid:.3f}MB/s\")\n",
        "        print(f\"n_samples: {X_valid.shape[0]}, n_features: {X_valid.shape[1]}\")\n",
        "\n",
        "        print(f\"vectorize testing done in {duration_test:.3f}s \"\n",
        "              f\"at {data_test_size_mb / duration_test:.3f}MB/s\")\n",
        "        print(f\"n_samples: {X_test.shape[0]}, n_features: {X_test.shape[1]}\")\n",
        "\n",
        "    return X_train, X_valid, X_test, y_train, y_valid, feature_names"
      ]
    },
    {
      "cell_type": "markdown",
      "metadata": {
        "id": "4sSvAIKKSkU6"
      },
      "source": [
        "Now, let's transform the feature variable `text` from the training, validation and test sets.\n",
        "\n",
        "We will start with a wide inclusion of words, `max_df=0.9` and `min_df=1`, as the maximum length of a single tweet used to be just 140 characters."
      ]
    },
    {
      "cell_type": "code",
      "execution_count": 21,
      "metadata": {
        "id": "ubACFtYRSkU6",
        "outputId": "3b9c776c-2fa6-4f4e-d19b-1bb18f421ca7",
        "colab": {
          "base_uri": "https://localhost:8080/"
        }
      },
      "outputs": [
        {
          "output_type": "stream",
          "name": "stdout",
          "text": [
            "5887 documents - 0.60MB (training set)\n",
            "655 documents - 0.07MB (valid set)\n",
            "3263 documents - 0.33MB (test set)\n",
            "vectorizer learning done in 0.216s at 4.648MB/s\n",
            "vectorize training done in 0.099s at 6.069MB/s\n",
            "n_samples: 5887, n_features: 25727\n",
            "vectorize validation done in 0.012s at 5.586MB/s\n",
            "n_samples: 655, n_features: 25727\n",
            "vectorize testing done in 0.055s at 6.050MB/s\n",
            "n_samples: 3263, n_features: 25727\n"
          ]
        }
      ],
      "source": [
        "# vectorize the text data\n",
        "X_train, X_valid, X_test, y_train, y_valid, feature_names = vectorize_dataset('text', 'target',\n",
        "    df_train_sp, df_val_sp, df_test, max_df=.9, min_df=0, norm=None,\n",
        "    strip_accents='unicode', stop_words='english', lowercase=True, verbose=True)"
      ]
    },
    {
      "cell_type": "markdown",
      "metadata": {
        "id": "ehHFvp_rSkU6"
      },
      "source": [
        "From the results of the vectorization, we can observe that with a wide inclusion of words resulted in 25,727 features.\n",
        "\n",
        "Now, let's define a function that will help us to get a better understanding the outcome."
      ]
    },
    {
      "cell_type": "code",
      "execution_count": 22,
      "metadata": {
        "id": "J_ZC5ET2SkU7"
      },
      "outputs": [],
      "source": [
        "# function to plot top 15 features\n",
        "def top_words(feature_names, X, y, class_index=[0, 1]):\n",
        "  df_tfidf = pd.DataFrame(X.toarray(), columns=feature_names)\n",
        "\n",
        "  # reset y set\n",
        "  y_reset =  y.reset_index(drop=True)\n",
        "\n",
        "  # define subplots\n",
        "  fig, ax = plt.subplots(1,2,figsize=(8,4))\n",
        "\n",
        "  for i in class_index:\n",
        "    # search indexes for each class\n",
        "    idx = list(y_reset[y_reset==i].index)\n",
        "\n",
        "    # Sort feature names by TF-IDF scores\n",
        "    tweet = df_tfidf.iloc[idx].mean(axis=0).sort_values(ascending=False)\n",
        "\n",
        "    # Bar chart\n",
        "    plt.subplot(1,2,i+1)\n",
        "    tweet[:15].plot(kind='bar')\n",
        "    plt.title(f'Class: {i}')\n",
        "    plt.ylabel('TF-IDF Score')\n",
        "    plt.xlabel('Features')\n",
        "\n",
        "  fig.tight_layout(h_pad=20)\n",
        "  plt.show()"
      ]
    },
    {
      "cell_type": "markdown",
      "source": [
        "Let's visualize the results from the word encoding by plotting the top fifteen (15) feature names for each class."
      ],
      "metadata": {
        "id": "6hm6sx00FeiU"
      }
    },
    {
      "cell_type": "code",
      "source": [
        "# plot top features for train set\n",
        "top_words(feature_names, X_train, y_train)"
      ],
      "metadata": {
        "colab": {
          "base_uri": "https://localhost:8080/",
          "height": 407
        },
        "id": "SK4xxc8W6At9",
        "outputId": "4509876d-289e-403d-acdd-8bef94e9b722"
      },
      "execution_count": 23,
      "outputs": [
        {
          "output_type": "display_data",
          "data": {
            "text/plain": [
              "<Figure size 800x400 with 2 Axes>"
            ],
            "image/png": "[encoded data removed]"
          },
          "metadata": {}
        }
      ]
    },
    {
      "cell_type": "code",
      "source": [
        "# plot top features for valid set\n",
        "top_words(feature_names, X_valid, y_valid)"
      ],
      "metadata": {
        "colab": {
          "base_uri": "https://localhost:8080/",
          "height": 407
        },
        "id": "8o0ZDdbKWOJi",
        "outputId": "daa30fd1-d8c5-4ad2-dc20-3a9da42e7171"
      },
      "execution_count": 24,
      "outputs": [
        {
          "output_type": "display_data",
          "data": {
            "text/plain": [
              "<Figure size 800x400 with 2 Axes>"
            ],
            "image/png": "[encoded data removed]"
          },
          "metadata": {}
        }
      ]
    },
    {
      "cell_type": "markdown",
      "source": [
        "From the plots, we can observe some specific keywords related to disasters are present in the `Class 1` graph, which are not present in `Class 0`. This correlation is a promising initial indicator for classifying Tweets.  "
      ],
      "metadata": {
        "id": "MbDbNLihF-Ys"
      }
    },
    {
      "cell_type": "markdown",
      "source": [
        "### Data Transformation\n",
        "\n",
        "For building our models, we will use *Word Embedding* instead of using *TF-IDF*, as it only considers the frequency of the words in the document and the corpus.\n",
        "\n",
        "*Word Embedding* represents words as vectors in a high-dimensional space, which capture the semantic meaning of words."
      ],
      "metadata": {
        "id": "jdqKf47XVnC2"
      }
    },
    {
      "cell_type": "code",
      "source": [
        "# convert to tf datasets\n",
        "ar_train = (df_train_sp['text'].values, df_train_sp['target'].values)\n",
        "ar_valid = (df_val_sp['text'].values, df_val_sp['target'].values)\n",
        "ar_test = (df_test['text'].values)\n",
        "\n",
        "# tf datasets\n",
        "tf_train = tf.data.Dataset.from_tensor_slices((df_train_sp['text'].values,df_train_sp['target'].values))\n",
        "tf_valid = tf.data.Dataset.from_tensor_slices((df_val_sp['text'].values,df_val_sp['target'].values))\n",
        "tf_test = tf.data.Dataset.from_tensor_slices(df_test['text'].values)\n",
        "\n",
        "# split the train and valid data into batches of 32, and shuffle the training set\n",
        "batch_size = 32\n",
        "tf_train = tf_train.shuffle(buffer_size=len(tf_train), seed=42)\n",
        "tf_train = tf_train.batch(batch_size)\n",
        "tf_valid = tf_valid.batch(batch_size)\n",
        "tf_test = tf_test.batch(batch_size)\n",
        "\n",
        "# print one example for the tf train set\n",
        "example, label = next(iter(tf_train))\n",
        "print('Text:\\n', example.numpy()[0])\n",
        "print('\\nLabel: ', label.numpy()[0])"
      ],
      "metadata": {
        "colab": {
          "base_uri": "https://localhost:8080/"
        },
        "id": "lyIr2NiVDW3A",
        "outputId": "38e3b6c3-490e-4e70-d09f-dfbb6e512c63"
      },
      "execution_count": 25,
      "outputs": [
        {
          "output_type": "stream",
          "name": "stdout",
          "text": [
            "Text:\n",
            " b'FedEx no longer will ship potential bioterror pathogens - Atlanta Business Chronicle http://t.co/YLLQJljiIQ'\n",
            "\n",
            "Label:  0\n"
          ]
        }
      ]
    },
    {
      "cell_type": "code",
      "source": [
        "# Determine number of batches per set\n",
        "tf_train_batch = len(tf_train)\n",
        "tf_valid_batch = len(tf_valid)\n",
        "tf_test_batch = len(tf_test)\n",
        "\n",
        "print('Number of batches')\n",
        "print('train / validation / test')\n",
        "print(tf_train_batch, '/', tf_valid_batch, '/', tf_test_batch)"
      ],
      "metadata": {
        "colab": {
          "base_uri": "https://localhost:8080/"
        },
        "id": "bQunolMZpKUS",
        "outputId": "d634399d-c4c8-4b8a-d3f7-b8a2d935e59e"
      },
      "execution_count": 26,
      "outputs": [
        {
          "output_type": "stream",
          "name": "stdout",
          "text": [
            "Number of batches\n",
            "train / validation / test\n",
            "184 / 21 / 102\n"
          ]
        }
      ]
    },
    {
      "cell_type": "code",
      "source": [
        "# set length of the encoder output vector\n",
        "max_length = 25\n",
        "\n",
        "# set TextVectorization layer to normalize, split, and map strings to integers\n",
        "encoder = TextVectorization(max_tokens=50000,\n",
        "                            standardize='lower_and_strip_punctuation',\n",
        "                            split='whitespace',\n",
        "                            output_mode='int',\n",
        "                            output_sequence_length=25,\n",
        "                            )\n",
        "\n",
        "# adapt the TextVectorization layer to the training data.\n",
        "encoder.adapt(tf_train.map(lambda text, _: text))\n",
        "\n",
        "# calculate vocabulary size\n",
        "vocab_size = len(encoder.get_vocabulary())"
      ],
      "metadata": {
        "id": "NiGJw-qhCtG2"
      },
      "execution_count": 27,
      "outputs": []
    },
    {
      "cell_type": "markdown",
      "source": [
        "Let's test the encoder layer with the example from train set."
      ],
      "metadata": {
        "id": "rFw6TWP9mIyx"
      }
    },
    {
      "cell_type": "code",
      "source": [
        "# extracting the vocabulary from the TextVectorization layer\n",
        "vocabulary = np.array(encoder.get_vocabulary())\n",
        "\n",
        "# encoding a test example and decoding it back\n",
        "original_text = example.numpy()[0]\n",
        "encoded_text = encoder(original_text).numpy()\n",
        "decoded_text = ' '.join(vocabulary[encoded_text])\n",
        "\n",
        "print('original: ', original_text)\n",
        "print('encoded: ', encoded_text)\n",
        "print('decoded: ', decoded_text)"
      ],
      "metadata": {
        "colab": {
          "base_uri": "https://localhost:8080/"
        },
        "id": "-5lPsQNcmAnO",
        "outputId": "3b7ef565-8258-4efd-f403-86ee94fd5d48"
      },
      "execution_count": 28,
      "outputs": [
        {
          "output_type": "stream",
          "name": "stdout",
          "text": [
            "original:  b'FedEx no longer will ship potential bioterror pathogens - Atlanta Business Chronicle http://t.co/YLLQJljiIQ'\n",
            "encoded:  [  485    40   569    42   912  1461   519  1346  3671   546  5401 11298\n",
            "     0     0     0     0     0     0     0     0     0     0     0     0\n",
            "     0]\n",
            "decoded:  fedex no longer will ship potential bioterror pathogens atlanta business chronicle httptcoyllqjljiiq             \n"
          ]
        }
      ]
    },
    {
      "cell_type": "markdown",
      "metadata": {
        "id": "32ODec5nSkU7"
      },
      "source": [
        "## Model Building and Training\n",
        "\n",
        "For modeling, we will test different RNN architectures to evaluate which one performs best. This involves:\n",
        "\n",
        "* An embedding layer to convert each word into a fixed length vector of defined size.\n",
        "* Two (2) RNN layers to handle the sequence of words, where the output from the previous step is fed as input to the current step.\n",
        "\n",
        "* A classifier section with a basic layout of 3x`Dense` layers with `Dropout` regularization.\n",
        "\n",
        "The `Dropout` regularization will ensure the model doesn't overfit so quickly.\n",
        "\n",
        "To find the best model, we will set up learning rate schedule with exponential decay, a checkpoint to save the best model based on validation loss, and an early stopping mechanism to save time once the model start overfitting the training data."
      ]
    },
    {
      "cell_type": "markdown",
      "source": [
        "### Visualize the Convergence\n",
        "\n",
        "Before proceeding with the training, let's set a function that will allow us to visualize how the metrics (i.e., loss function) converge during the training process."
      ],
      "metadata": {
        "id": "mvmvSBDAlM42"
      }
    },
    {
      "cell_type": "code",
      "source": [
        "# Plot metrics vs epoch\n",
        "def history_plot(model):\n",
        "    # initiate dict\n",
        "    hist_dict = {}\n",
        "    # iterate across each metric\n",
        "    for metric in model.history.keys():\n",
        "        # extract metric values\n",
        "        hist_dict[metric] = model.history[metric]\n",
        "\n",
        "    # range of epoch\n",
        "    epoch_range = range(1, len(hist_dict['loss'])+1)\n",
        "    # set plot size\n",
        "    plt.figure(figsize=[14,4])\n",
        "    # number of sub-plots\n",
        "    n = int(len(hist_dict.keys())/2)\n",
        "\n",
        "    # iterate across number of sub-plots\n",
        "    for i in range(n):\n",
        "        # metric\n",
        "        metric = list(hist_dict.keys())[i]\n",
        "        # plot metric values\n",
        "        plt.subplot(1,n,i+1)\n",
        "        plt.plot(epoch_range, hist_dict[metric], label='Training')\n",
        "        plt.plot(epoch_range, hist_dict['val_' + metric], label='Validation')\n",
        "        plt.xlabel('epoch'); plt.ylabel(metric); plt.title(f'Convergence of {metric}')\n",
        "        plt.grid()\n",
        "        plt.legend()\n",
        "\n",
        "    plt.tight_layout()\n",
        "    plt.show()"
      ],
      "metadata": {
        "id": "Jdo1fHbxlK0o"
      },
      "execution_count": 29,
      "outputs": []
    },
    {
      "cell_type": "markdown",
      "metadata": {
        "id": "lBQgBM1cSkU7"
      },
      "source": [
        "### SimpleRNN Architecture"
      ]
    },
    {
      "cell_type": "markdown",
      "source": [
        "We will begin with a basic `SimpleRNN` architecture."
      ],
      "metadata": {
        "id": "QvaxoXGunlBy"
      }
    },
    {
      "cell_type": "code",
      "source": [
        "# set seeds to ensure repeatibility of results\n",
        "tf.random.set_seed(42)\n",
        "\n",
        "# set model architecture\n",
        "mdl_SRNN = Sequential([\n",
        "            encoder,\n",
        "            Embedding(input_dim=vocab_size, output_dim=64, input_length=max_length, mask_zero=True),\n",
        "            SimpleRNN(units=64, activation='relu',  return_sequences=True),\n",
        "            SimpleRNN(units=64, activation='relu'),\n",
        "            Dropout(0.3),\n",
        "            Dense(128, activation='relu'),\n",
        "            Dropout(0.5),\n",
        "            Dense(64, activation='relu'),\n",
        "            Dropout(0.5),\n",
        "            Dense(1, activation='sigmoid')\n",
        "            ])\n",
        "\n",
        "# Summary of the model\n",
        "mdl_SRNN.summary()\n",
        "\n",
        "# learning rate schedule\n",
        "lr_schedule = keras.optimizers.schedules.ExponentialDecay(\n",
        "            initial_learning_rate=1e-4,\n",
        "            decay_steps=tf_train_batch,\n",
        "            decay_rate=0.85,\n",
        "            staircase=True)\n",
        "\n",
        "# Compile the model\n",
        "mdl_SRNN.compile(\n",
        "            loss=keras.losses.BinaryCrossentropy(from_logits=False),\n",
        "            optimizer=keras.optimizers.Adam(learning_rate=lr_schedule),\n",
        "            metrics=['accuracy', AUC()])"
      ],
      "metadata": {
        "colab": {
          "base_uri": "https://localhost:8080/"
        },
        "id": "t3n75qEjY7CQ",
        "outputId": "88d5e11d-1146-4273-bdcd-6126de7ffd33"
      },
      "execution_count": 30,
      "outputs": [
        {
          "output_type": "stream",
          "name": "stdout",
          "text": [
            "Model: \"sequential\"\n",
            "_________________________________________________________________\n",
            " Layer (type)                Output Shape              Param #   \n",
            "=================================================================\n",
            " text_vectorization (TextVe  (None, 25)                0         \n",
            " ctorization)                                                    \n",
            "                                                                 \n",
            " embedding (Embedding)       (None, 25, 64)            1213440   \n",
            "                                                                 \n",
            " simple_rnn (SimpleRNN)      (None, 25, 64)            8256      \n",
            "                                                                 \n",
            " simple_rnn_1 (SimpleRNN)    (None, 64)                8256      \n",
            "                                                                 \n",
            " dropout (Dropout)           (None, 64)                0         \n",
            "                                                                 \n",
            " dense (Dense)               (None, 128)               8320      \n",
            "                                                                 \n",
            " dropout_1 (Dropout)         (None, 128)               0         \n",
            "                                                                 \n",
            " dense_1 (Dense)             (None, 64)                8256      \n",
            "                                                                 \n",
            " dropout_2 (Dropout)         (None, 64)                0         \n",
            "                                                                 \n",
            " dense_2 (Dense)             (None, 1)                 65        \n",
            "                                                                 \n",
            "=================================================================\n",
            "Total params: 1246593 (4.76 MB)\n",
            "Trainable params: 1246593 (4.76 MB)\n",
            "Non-trainable params: 0 (0.00 Byte)\n",
            "_________________________________________________________________\n"
          ]
        }
      ]
    },
    {
      "cell_type": "code",
      "source": [
        "%%time\n",
        "## capture start time\n",
        "t0 = time()\n",
        "\n",
        "## Set checkpointer for best model\n",
        "checkpointer = ModelCheckpoint(\n",
        "                              filepath = '/content/drive/MyDrive/mdl_SRNN_weights_best.keras',\n",
        "                              verbose = 1,\n",
        "                              save_best_only=True\n",
        "                              )\n",
        "\n",
        "# Set an early stopper\n",
        "stopper = keras.callbacks.EarlyStopping(\n",
        "                                      monitor=\"val_accuracy\",\n",
        "                                      min_delta=0,\n",
        "                                      patience=0,\n",
        "                                      verbose=0,\n",
        "                                      mode=\"auto\",\n",
        "                                      baseline=None,\n",
        "                                      restore_best_weights=False,\n",
        "                                      start_from_epoch=10,\n",
        "                                      )\n",
        "\n",
        "# Training the model\n",
        "hist_SRNN = mdl_SRNN.fit(\n",
        "                        tf_train,\n",
        "                        steps_per_epoch = tf_train_batch,\n",
        "                        epochs = 30,\n",
        "                        validation_data = tf_valid,\n",
        "                        validation_steps = tf_valid_batch,\n",
        "                        verbose = 1,\n",
        "                        callbacks=[checkpointer, stopper]\n",
        "                        )\n",
        "\n",
        "# calculate wall time\n",
        "dur_SRNN = time() - t0"
      ],
      "metadata": {
        "colab": {
          "base_uri": "https://localhost:8080/"
        },
        "id": "Hp4y0vNsqzl9",
        "outputId": "86314060-0579-4424-ccf0-3f21dd5809dd"
      },
      "execution_count": 31,
      "outputs": [
        {
          "output_type": "stream",
          "name": "stdout",
          "text": [
            "Epoch 1/30\n",
            "184/184 [==============================] - ETA: 0s - loss: 0.6939 - accuracy: 0.4958 - auc: 0.4890\n",
            "Epoch 1: val_loss improved from inf to 0.69263, saving model to /content/drive/MyDrive/mdl_SRNN_weights_best.keras\n",
            "184/184 [==============================] - 33s 143ms/step - loss: 0.6939 - accuracy: 0.4958 - auc: 0.4890 - val_loss: 0.6926 - val_accuracy: 0.5374 - val_auc: 0.5475\n",
            "Epoch 2/30\n",
            "184/184 [==============================] - ETA: 0s - loss: 0.6928 - accuracy: 0.5076 - auc: 0.5152\n",
            "Epoch 2: val_loss improved from 0.69263 to 0.69229, saving model to /content/drive/MyDrive/mdl_SRNN_weights_best.keras\n",
            "184/184 [==============================] - 14s 77ms/step - loss: 0.6928 - accuracy: 0.5076 - auc: 0.5152 - val_loss: 0.6923 - val_accuracy: 0.5344 - val_auc: 0.5575\n",
            "Epoch 3/30\n",
            "184/184 [==============================] - ETA: 0s - loss: 0.6916 - accuracy: 0.5342 - auc: 0.5498\n",
            "Epoch 3: val_loss improved from 0.69229 to 0.69162, saving model to /content/drive/MyDrive/mdl_SRNN_weights_best.keras\n",
            "184/184 [==============================] - 12s 65ms/step - loss: 0.6916 - accuracy: 0.5342 - auc: 0.5498 - val_loss: 0.6916 - val_accuracy: 0.5374 - val_auc: 0.5809\n",
            "Epoch 4/30\n",
            "184/184 [==============================] - ETA: 0s - loss: 0.6894 - accuracy: 0.5458 - auc: 0.5834\n",
            "Epoch 4: val_loss improved from 0.69162 to 0.69018, saving model to /content/drive/MyDrive/mdl_SRNN_weights_best.keras\n",
            "184/184 [==============================] - 13s 68ms/step - loss: 0.6894 - accuracy: 0.5458 - auc: 0.5834 - val_loss: 0.6902 - val_accuracy: 0.5542 - val_auc: 0.6208\n",
            "Epoch 5/30\n",
            "184/184 [==============================] - ETA: 0s - loss: 0.6854 - accuracy: 0.5641 - auc: 0.6272\n",
            "Epoch 5: val_loss improved from 0.69018 to 0.68476, saving model to /content/drive/MyDrive/mdl_SRNN_weights_best.keras\n",
            "184/184 [==============================] - 12s 63ms/step - loss: 0.6854 - accuracy: 0.5641 - auc: 0.6272 - val_loss: 0.6848 - val_accuracy: 0.5420 - val_auc: 0.6818\n",
            "Epoch 6/30\n",
            "184/184 [==============================] - ETA: 0s - loss: 0.6678 - accuracy: 0.5903 - auc: 0.7179\n",
            "Epoch 6: val_loss improved from 0.68476 to 0.65217, saving model to /content/drive/MyDrive/mdl_SRNN_weights_best.keras\n",
            "184/184 [==============================] - 12s 64ms/step - loss: 0.6678 - accuracy: 0.5903 - auc: 0.7179 - val_loss: 0.6522 - val_accuracy: 0.6580 - val_auc: 0.7679\n",
            "Epoch 7/30\n",
            "184/184 [==============================] - ETA: 0s - loss: 0.5833 - accuracy: 0.7299 - auc: 0.8251\n",
            "Epoch 7: val_loss improved from 0.65217 to 0.54855, saving model to /content/drive/MyDrive/mdl_SRNN_weights_best.keras\n",
            "184/184 [==============================] - 11s 61ms/step - loss: 0.5833 - accuracy: 0.7299 - auc: 0.8251 - val_loss: 0.5486 - val_accuracy: 0.7527 - val_auc: 0.8196\n",
            "Epoch 8/30\n",
            "184/184 [==============================] - ETA: 0s - loss: 0.4726 - accuracy: 0.8261 - auc: 0.8749\n",
            "Epoch 8: val_loss improved from 0.54855 to 0.51746, saving model to /content/drive/MyDrive/mdl_SRNN_weights_best.keras\n",
            "184/184 [==============================] - 12s 63ms/step - loss: 0.4726 - accuracy: 0.8261 - auc: 0.8749 - val_loss: 0.5175 - val_accuracy: 0.7588 - val_auc: 0.8298\n",
            "Epoch 9/30\n",
            "184/184 [==============================] - ETA: 0s - loss: 0.3805 - accuracy: 0.8639 - auc: 0.9066\n",
            "Epoch 9: val_loss did not improve from 0.51746\n",
            "184/184 [==============================] - 11s 61ms/step - loss: 0.3805 - accuracy: 0.8639 - auc: 0.9066 - val_loss: 0.5653 - val_accuracy: 0.7664 - val_auc: 0.8351\n",
            "Epoch 10/30\n",
            "184/184 [==============================] - ETA: 0s - loss: 0.3255 - accuracy: 0.8850 - auc: 0.9266\n",
            "Epoch 10: val_loss did not improve from 0.51746\n",
            "184/184 [==============================] - 11s 60ms/step - loss: 0.3255 - accuracy: 0.8850 - auc: 0.9266 - val_loss: 0.5663 - val_accuracy: 0.7786 - val_auc: 0.8338\n",
            "Epoch 11/30\n",
            "184/184 [==============================] - ETA: 0s - loss: 0.2878 - accuracy: 0.9059 - auc: 0.9415\n",
            "Epoch 11: val_loss did not improve from 0.51746\n",
            "184/184 [==============================] - 11s 59ms/step - loss: 0.2878 - accuracy: 0.9059 - auc: 0.9415 - val_loss: 0.6135 - val_accuracy: 0.7771 - val_auc: 0.8357\n",
            "Epoch 12/30\n",
            "184/184 [==============================] - ETA: 0s - loss: 0.2567 - accuracy: 0.9176 - auc: 0.9538\n",
            "Epoch 12: val_loss did not improve from 0.51746\n",
            "184/184 [==============================] - 11s 61ms/step - loss: 0.2567 - accuracy: 0.9176 - auc: 0.9538 - val_loss: 0.6476 - val_accuracy: 0.7771 - val_auc: 0.8337\n",
            "CPU times: user 4min 30s, sys: 32.6 s, total: 5min 2s\n",
            "Wall time: 2min 42s\n"
          ]
        }
      ]
    },
    {
      "cell_type": "code",
      "source": [
        "# monitor training convergence\n",
        "history_plot(hist_SRNN)"
      ],
      "metadata": {
        "colab": {
          "base_uri": "https://localhost:8080/",
          "height": 407
        },
        "id": "srklSWderChb",
        "outputId": "3367a5ad-db4c-42cb-b120-36f13acf96fd"
      },
      "execution_count": 32,
      "outputs": [
        {
          "output_type": "display_data",
          "data": {
            "text/plain": [
              "<Figure size 1400x400 with 3 Axes>"
            ],
            "image/png": "[encoded data removed]"
          },
          "metadata": {}
        }
      ]
    },
    {
      "cell_type": "markdown",
      "metadata": {
        "id": "EFkTgPVgSkU7"
      },
      "source": [
        " The best model was found at the 8th epoch with a validation accuracy of 75.88% and a validation AUC of 82.9%.\n",
        "\n",
        " The rapid increase in the validation loss after the 8th epoch suggests that the model is overfitting the training data.\n",
        "\n",
        " It took just 2min 42s to train, and stopped early at 12 epochs."
      ]
    },
    {
      "cell_type": "markdown",
      "source": [
        "### LSTM Architecture\n",
        "\n",
        "Next, we will replace the `SimpleRNN` layers by `LSTM` layers in the architecture."
      ],
      "metadata": {
        "id": "CObeGabWZBCi"
      }
    },
    {
      "cell_type": "code",
      "source": [
        "# set seeds to ensure repeatibility of results\n",
        "tf.random.set_seed(42)\n",
        "\n",
        "# set model architecture\n",
        "mdl_LSTM = Sequential([\n",
        "            encoder,\n",
        "            Embedding(input_dim=vocab_size, output_dim=64, input_length=max_length, mask_zero=True),\n",
        "            LSTM(64, activation='relu', return_sequences=True),\n",
        "            LSTM(64, activation='relu'),\n",
        "            Dropout(0.3),\n",
        "            Dense(128, activation='relu'),\n",
        "            Dropout(0.5),\n",
        "            Dense(64, activation='relu'),\n",
        "            Dropout(0.5),\n",
        "            Dense(1, activation='sigmoid')\n",
        "            ])\n",
        "\n",
        "# Summary of the model\n",
        "mdl_LSTM.summary()\n",
        "\n",
        "# learning rate schedule\n",
        "lr_schedule = keras.optimizers.schedules.ExponentialDecay(\n",
        "            initial_learning_rate=1e-4,\n",
        "            decay_steps=tf_train_batch,\n",
        "            decay_rate=0.85,\n",
        "            staircase=True)\n",
        "\n",
        "# Compile the model\n",
        "mdl_LSTM.compile(\n",
        "            loss=keras.losses.BinaryCrossentropy(from_logits=False),\n",
        "            optimizer=keras.optimizers.Adam(learning_rate=lr_schedule),\n",
        "            metrics=['accuracy', AUC()])"
      ],
      "metadata": {
        "colab": {
          "base_uri": "https://localhost:8080/"
        },
        "id": "4v5NTxRVZHng",
        "outputId": "99fda69a-a666-4dc4-8250-62fd8e0e26ca"
      },
      "execution_count": 33,
      "outputs": [
        {
          "output_type": "stream",
          "name": "stderr",
          "text": [
            "WARNING:tensorflow:Layer lstm will not use cuDNN kernels since it doesn't meet the criteria. It will use a generic GPU kernel as fallback when running on GPU.\n",
            "WARNING:tensorflow:Layer lstm_1 will not use cuDNN kernels since it doesn't meet the criteria. It will use a generic GPU kernel as fallback when running on GPU.\n"
          ]
        },
        {
          "output_type": "stream",
          "name": "stdout",
          "text": [
            "Model: \"sequential_1\"\n",
            "_________________________________________________________________\n",
            " Layer (type)                Output Shape              Param #   \n",
            "=================================================================\n",
            " text_vectorization (TextVe  (None, 25)                0         \n",
            " ctorization)                                                    \n",
            "                                                                 \n",
            " embedding_1 (Embedding)     (None, 25, 64)            1213440   \n",
            "                                                                 \n",
            " lstm (LSTM)                 (None, 25, 64)            33024     \n",
            "                                                                 \n",
            " lstm_1 (LSTM)               (None, 64)                33024     \n",
            "                                                                 \n",
            " dropout_3 (Dropout)         (None, 64)                0         \n",
            "                                                                 \n",
            " dense_3 (Dense)             (None, 128)               8320      \n",
            "                                                                 \n",
            " dropout_4 (Dropout)         (None, 128)               0         \n",
            "                                                                 \n",
            " dense_4 (Dense)             (None, 64)                8256      \n",
            "                                                                 \n",
            " dropout_5 (Dropout)         (None, 64)                0         \n",
            "                                                                 \n",
            " dense_5 (Dense)             (None, 1)                 65        \n",
            "                                                                 \n",
            "=================================================================\n",
            "Total params: 1296129 (4.94 MB)\n",
            "Trainable params: 1296129 (4.94 MB)\n",
            "Non-trainable params: 0 (0.00 Byte)\n",
            "_________________________________________________________________\n"
          ]
        }
      ]
    },
    {
      "cell_type": "code",
      "source": [
        "%%time\n",
        "## capture start time\n",
        "t0 = time()\n",
        "\n",
        "## Set checkpointer for best model\n",
        "checkpointer = ModelCheckpoint(\n",
        "                              filepath = '/content/drive/MyDrive/mdl_LSTM_weights_best.keras',\n",
        "                              verbose = 1,\n",
        "                              save_best_only=True\n",
        "                              )\n",
        "\n",
        "# Set an early stopper\n",
        "stopper = keras.callbacks.EarlyStopping(\n",
        "                                      monitor=\"val_accuracy\",\n",
        "                                      min_delta=0,\n",
        "                                      patience=0,\n",
        "                                      verbose=0,\n",
        "                                      mode=\"auto\",\n",
        "                                      baseline=None,\n",
        "                                      restore_best_weights=False,\n",
        "                                      start_from_epoch=10,\n",
        "                                      )\n",
        "\n",
        "# Training the model\n",
        "hist_LSTM = mdl_LSTM.fit(\n",
        "                        tf_train,\n",
        "                        steps_per_epoch = tf_train_batch,\n",
        "                        epochs = 30,\n",
        "                        validation_data = tf_valid,\n",
        "                        validation_steps = tf_valid_batch,\n",
        "                        verbose = 1,\n",
        "                        callbacks=[checkpointer, stopper]\n",
        "                        )\n",
        "\n",
        "# calculate wall time\n",
        "dur_LSTM = time() - t0"
      ],
      "metadata": {
        "colab": {
          "base_uri": "https://localhost:8080/"
        },
        "id": "AAJLUxfl_uP3",
        "outputId": "c95ae7ca-772e-4243-c9c6-9a5c02b22e77"
      },
      "execution_count": 34,
      "outputs": [
        {
          "output_type": "stream",
          "name": "stdout",
          "text": [
            "Epoch 1/30\n",
            "184/184 [==============================] - ETA: 0s - loss: 0.6932 - accuracy: 0.4974 - auc_1: 0.4982\n",
            "Epoch 1: val_loss improved from inf to 0.69308, saving model to /content/drive/MyDrive/mdl_LSTM_weights_best.keras\n",
            "184/184 [==============================] - 31s 141ms/step - loss: 0.6932 - accuracy: 0.4974 - auc_1: 0.4982 - val_loss: 0.6931 - val_accuracy: 0.4840 - val_auc_1: 0.5000\n",
            "Epoch 2/30\n",
            "184/184 [==============================] - ETA: 0s - loss: 0.6927 - accuracy: 0.5409 - auc_1: 0.5382\n",
            "Epoch 2: val_loss improved from 0.69308 to 0.69182, saving model to /content/drive/MyDrive/mdl_LSTM_weights_best.keras\n",
            "184/184 [==============================] - 17s 94ms/step - loss: 0.6927 - accuracy: 0.5409 - auc_1: 0.5382 - val_loss: 0.6918 - val_accuracy: 0.5008 - val_auc_1: 0.6496\n",
            "Epoch 3/30\n",
            "184/184 [==============================] - ETA: 0s - loss: 0.6744 - accuracy: 0.6931 - auc_1: 0.7562\n",
            "Epoch 3: val_loss improved from 0.69182 to 0.60669, saving model to /content/drive/MyDrive/mdl_LSTM_weights_best.keras\n",
            "184/184 [==============================] - 17s 90ms/step - loss: 0.6744 - accuracy: 0.6931 - auc_1: 0.7562 - val_loss: 0.6067 - val_accuracy: 0.7771 - val_auc_1: 0.8163\n",
            "Epoch 4/30\n",
            "184/184 [==============================] - ETA: 0s - loss: 0.5022 - accuracy: 0.8118 - auc_1: 0.8569\n",
            "Epoch 4: val_loss improved from 0.60669 to 0.49857, saving model to /content/drive/MyDrive/mdl_LSTM_weights_best.keras\n",
            "184/184 [==============================] - 17s 90ms/step - loss: 0.5022 - accuracy: 0.8118 - auc_1: 0.8569 - val_loss: 0.4986 - val_accuracy: 0.8000 - val_auc_1: 0.8292\n",
            "Epoch 5/30\n",
            "184/184 [==============================] - ETA: 0s - loss: 0.3919 - accuracy: 0.8641 - auc_1: 0.9072\n",
            "Epoch 5: val_loss improved from 0.49857 to 0.49581, saving model to /content/drive/MyDrive/mdl_LSTM_weights_best.keras\n",
            "184/184 [==============================] - 16s 89ms/step - loss: 0.3919 - accuracy: 0.8641 - auc_1: 0.9072 - val_loss: 0.4958 - val_accuracy: 0.7969 - val_auc_1: 0.8365\n",
            "Epoch 6/30\n",
            "184/184 [==============================] - ETA: 0s - loss: 0.3264 - accuracy: 0.8891 - auc_1: 0.9336\n",
            "Epoch 6: val_loss did not improve from 0.49581\n",
            "184/184 [==============================] - 16s 85ms/step - loss: 0.3264 - accuracy: 0.8891 - auc_1: 0.9336 - val_loss: 0.5508 - val_accuracy: 0.7878 - val_auc_1: 0.8344\n",
            "Epoch 7/30\n",
            "184/184 [==============================] - ETA: 0s - loss: 0.2759 - accuracy: 0.9113 - auc_1: 0.9521\n",
            "Epoch 7: val_loss did not improve from 0.49581\n",
            "184/184 [==============================] - 16s 85ms/step - loss: 0.2759 - accuracy: 0.9113 - auc_1: 0.9521 - val_loss: 0.5676 - val_accuracy: 0.7878 - val_auc_1: 0.8361\n",
            "Epoch 8/30\n",
            "184/184 [==============================] - ETA: 0s - loss: 0.2445 - accuracy: 0.9249 - auc_1: 0.9628\n",
            "Epoch 8: val_loss did not improve from 0.49581\n",
            "184/184 [==============================] - 16s 84ms/step - loss: 0.2445 - accuracy: 0.9249 - auc_1: 0.9628 - val_loss: 0.5950 - val_accuracy: 0.7878 - val_auc_1: 0.8350\n",
            "Epoch 9/30\n",
            "184/184 [==============================] - ETA: 0s - loss: 0.2245 - accuracy: 0.9348 - auc_1: 0.9671\n",
            "Epoch 9: val_loss did not improve from 0.49581\n",
            "184/184 [==============================] - 16s 86ms/step - loss: 0.2245 - accuracy: 0.9348 - auc_1: 0.9671 - val_loss: 0.6411 - val_accuracy: 0.7878 - val_auc_1: 0.8303\n",
            "Epoch 10/30\n",
            "184/184 [==============================] - ETA: 0s - loss: 0.2066 - accuracy: 0.9399 - auc_1: 0.9721\n",
            "Epoch 10: val_loss did not improve from 0.49581\n",
            "184/184 [==============================] - 16s 87ms/step - loss: 0.2066 - accuracy: 0.9399 - auc_1: 0.9721 - val_loss: 0.6942 - val_accuracy: 0.7832 - val_auc_1: 0.8267\n",
            "Epoch 11/30\n",
            "184/184 [==============================] - ETA: 0s - loss: 0.1886 - accuracy: 0.9433 - auc_1: 0.9770\n",
            "Epoch 11: val_loss did not improve from 0.49581\n",
            "184/184 [==============================] - 16s 86ms/step - loss: 0.1886 - accuracy: 0.9433 - auc_1: 0.9770 - val_loss: 0.7911 - val_accuracy: 0.7756 - val_auc_1: 0.8219\n",
            "Epoch 12/30\n",
            "184/184 [==============================] - ETA: 0s - loss: 0.1780 - accuracy: 0.9482 - auc_1: 0.9790\n",
            "Epoch 12: val_loss did not improve from 0.49581\n",
            "184/184 [==============================] - 16s 86ms/step - loss: 0.1780 - accuracy: 0.9482 - auc_1: 0.9790 - val_loss: 0.8128 - val_accuracy: 0.7817 - val_auc_1: 0.8219\n",
            "Epoch 13/30\n",
            "184/184 [==============================] - ETA: 0s - loss: 0.1681 - accuracy: 0.9514 - auc_1: 0.9814\n",
            "Epoch 13: val_loss did not improve from 0.49581\n",
            "184/184 [==============================] - 15s 84ms/step - loss: 0.1681 - accuracy: 0.9514 - auc_1: 0.9814 - val_loss: 0.7994 - val_accuracy: 0.7863 - val_auc_1: 0.8235\n",
            "Epoch 14/30\n",
            "184/184 [==============================] - ETA: 0s - loss: 0.1602 - accuracy: 0.9543 - auc_1: 0.9831\n",
            "Epoch 14: val_loss did not improve from 0.49581\n",
            "184/184 [==============================] - 15s 84ms/step - loss: 0.1602 - accuracy: 0.9543 - auc_1: 0.9831 - val_loss: 0.9099 - val_accuracy: 0.7802 - val_auc_1: 0.8189\n",
            "CPU times: user 7min 34s, sys: 52.5 s, total: 8min 27s\n",
            "Wall time: 3min 58s\n"
          ]
        }
      ]
    },
    {
      "cell_type": "code",
      "source": [
        "# monitor training convergence\n",
        "history_plot(hist_LSTM)"
      ],
      "metadata": {
        "colab": {
          "base_uri": "https://localhost:8080/",
          "height": 407
        },
        "id": "9EKSo-Jk_uge",
        "outputId": "83be72c9-991c-4780-f85c-3d95df16442f"
      },
      "execution_count": 35,
      "outputs": [
        {
          "output_type": "display_data",
          "data": {
            "text/plain": [
              "<Figure size 1400x400 with 3 Axes>"
            ],
            "image/png": "[encoded data removed]"
          },
          "metadata": {}
        }
      ]
    },
    {
      "cell_type": "markdown",
      "metadata": {
        "id": "YgUT67EQSkU7"
      },
      "source": [
        "  The best model was found at the 4th epoch with a validation accuracy of 79.69% and a validation AUC of 83.65%.\n",
        "\n",
        " The rapid increase in the validation loss after the 4th epoch suggests that the model is overfitting the training data.\n",
        "\n",
        " It took just 3min 58s to train, and stopped early at 12 epochs."
      ]
    },
    {
      "cell_type": "markdown",
      "source": [
        "### GRU Architecture\n",
        "\n",
        "Now, we will try with `GRU` layers."
      ],
      "metadata": {
        "id": "PoUqxVx1ZM2O"
      }
    },
    {
      "cell_type": "code",
      "source": [
        "# set seeds to ensure repeatibility of results\n",
        "tf.random.set_seed(42)\n",
        "\n",
        "# set model architecture\n",
        "mdl_GRU = Sequential([\n",
        "                    encoder,\n",
        "                    Embedding(input_dim=vocab_size, output_dim=64, input_length=max_length, mask_zero=True),\n",
        "                    GRU(64, activation='relu', return_sequences=True),\n",
        "                    GRU(64, activation='relu'),\n",
        "                    Dropout(0.3),\n",
        "                    Dense(128, activation='relu'),\n",
        "                    Dropout(0.5),\n",
        "                    Dense(64, activation='relu'),\n",
        "                    Dropout(0.5),\n",
        "                    Dense(1, activation='sigmoid')\n",
        "                    ])\n",
        "\n",
        "# learning rate schedule\n",
        "lr_schedule = keras.optimizers.schedules.ExponentialDecay(\n",
        "            initial_learning_rate=1e-4,\n",
        "            decay_steps=tf_train_batch,\n",
        "            decay_rate=0.85,\n",
        "            staircase=True)\n",
        "\n",
        "# Summary of the model\n",
        "mdl_GRU.summary()\n",
        "\n",
        "# Compile the model\n",
        "mdl_GRU.compile(\n",
        "            loss=keras.losses.BinaryCrossentropy(from_logits=False),\n",
        "            optimizer=keras.optimizers.Adam(learning_rate=lr_schedule),\n",
        "            metrics=['accuracy', AUC()])"
      ],
      "metadata": {
        "colab": {
          "base_uri": "https://localhost:8080/"
        },
        "id": "D3isnvk0ZacK",
        "outputId": "fc95ef26-4cf9-4c03-9376-2ec5b3b537df"
      },
      "execution_count": 36,
      "outputs": [
        {
          "output_type": "stream",
          "name": "stderr",
          "text": [
            "WARNING:tensorflow:Layer gru will not use cuDNN kernels since it doesn't meet the criteria. It will use a generic GPU kernel as fallback when running on GPU.\n",
            "WARNING:tensorflow:Layer gru_1 will not use cuDNN kernels since it doesn't meet the criteria. It will use a generic GPU kernel as fallback when running on GPU.\n"
          ]
        },
        {
          "output_type": "stream",
          "name": "stdout",
          "text": [
            "Model: \"sequential_2\"\n",
            "_________________________________________________________________\n",
            " Layer (type)                Output Shape              Param #   \n",
            "=================================================================\n",
            " text_vectorization (TextVe  (None, 25)                0         \n",
            " ctorization)                                                    \n",
            "                                                                 \n",
            " embedding_2 (Embedding)     (None, 25, 64)            1213440   \n",
            "                                                                 \n",
            " gru (GRU)                   (None, 25, 64)            24960     \n",
            "                                                                 \n",
            " gru_1 (GRU)                 (None, 64)                24960     \n",
            "                                                                 \n",
            " dropout_6 (Dropout)         (None, 64)                0         \n",
            "                                                                 \n",
            " dense_6 (Dense)             (None, 128)               8320      \n",
            "                                                                 \n",
            " dropout_7 (Dropout)         (None, 128)               0         \n",
            "                                                                 \n",
            " dense_7 (Dense)             (None, 64)                8256      \n",
            "                                                                 \n",
            " dropout_8 (Dropout)         (None, 64)                0         \n",
            "                                                                 \n",
            " dense_8 (Dense)             (None, 1)                 65        \n",
            "                                                                 \n",
            "=================================================================\n",
            "Total params: 1280001 (4.88 MB)\n",
            "Trainable params: 1280001 (4.88 MB)\n",
            "Non-trainable params: 0 (0.00 Byte)\n",
            "_________________________________________________________________\n"
          ]
        }
      ]
    },
    {
      "cell_type": "code",
      "source": [
        "%%time\n",
        "## capture start time\n",
        "t0 = time()\n",
        "\n",
        "## Set checkpointer for best model\n",
        "checkpointer = ModelCheckpoint(\n",
        "                              filepath = '/content/drive/MyDrive/mdl_GRU_weights_best.keras',\n",
        "                              verbose = 1,\n",
        "                              save_best_only=True\n",
        "                              )\n",
        "\n",
        "# Set an early stopper\n",
        "stopper = keras.callbacks.EarlyStopping(\n",
        "                                      monitor=\"val_accuracy\",\n",
        "                                      min_delta=0,\n",
        "                                      patience=0,\n",
        "                                      verbose=0,\n",
        "                                      mode=\"auto\",\n",
        "                                      baseline=None,\n",
        "                                      restore_best_weights=False,\n",
        "                                      start_from_epoch=10,\n",
        "                                      )\n",
        "\n",
        "# Training the model\n",
        "hist_GRU = mdl_GRU.fit(\n",
        "                      tf_train,\n",
        "                      steps_per_epoch = tf_train_batch,\n",
        "                      epochs = 30,\n",
        "                      validation_data = tf_valid,\n",
        "                      validation_steps = tf_valid_batch,\n",
        "                      verbose = 1,\n",
        "                      callbacks=[checkpointer, stopper]\n",
        "                      )\n",
        "\n",
        "# calculate wall time\n",
        "dur_GRU = time() - t0"
      ],
      "metadata": {
        "colab": {
          "base_uri": "https://localhost:8080/"
        },
        "id": "T5Ef5X6IsqMZ",
        "outputId": "2b8dea12-bfae-43b9-da91-625fc7a74bdf"
      },
      "execution_count": 37,
      "outputs": [
        {
          "output_type": "stream",
          "name": "stdout",
          "text": [
            "Epoch 1/30\n",
            "184/184 [==============================] - ETA: 0s - loss: 0.6930 - accuracy: 0.5094 - auc_2: 0.5180\n",
            "Epoch 1: val_loss improved from inf to 0.69228, saving model to /content/drive/MyDrive/mdl_GRU_weights_best.keras\n",
            "184/184 [==============================] - 30s 140ms/step - loss: 0.6930 - accuracy: 0.5094 - auc_2: 0.5180 - val_loss: 0.6923 - val_accuracy: 0.5176 - val_auc_2: 0.5847\n",
            "Epoch 2/30\n",
            "184/184 [==============================] - ETA: 0s - loss: 0.6915 - accuracy: 0.5196 - auc_2: 0.5944\n",
            "Epoch 2: val_loss improved from 0.69228 to 0.68876, saving model to /content/drive/MyDrive/mdl_GRU_weights_best.keras\n",
            "184/184 [==============================] - 18s 96ms/step - loss: 0.6915 - accuracy: 0.5196 - auc_2: 0.5944 - val_loss: 0.6888 - val_accuracy: 0.6977 - val_auc_2: 0.7395\n",
            "Epoch 3/30\n",
            "184/184 [==============================] - ETA: 0s - loss: 0.6728 - accuracy: 0.6703 - auc_2: 0.7517\n",
            "Epoch 3: val_loss improved from 0.68876 to 0.63113, saving model to /content/drive/MyDrive/mdl_GRU_weights_best.keras\n",
            "184/184 [==============================] - 18s 96ms/step - loss: 0.6728 - accuracy: 0.6703 - auc_2: 0.7517 - val_loss: 0.6311 - val_accuracy: 0.7603 - val_auc_2: 0.8371\n",
            "Epoch 4/30\n",
            "184/184 [==============================] - ETA: 0s - loss: 0.4944 - accuracy: 0.8135 - auc_2: 0.8635\n",
            "Epoch 4: val_loss improved from 0.63113 to 0.46555, saving model to /content/drive/MyDrive/mdl_GRU_weights_best.keras\n",
            "184/184 [==============================] - 17s 91ms/step - loss: 0.4944 - accuracy: 0.8135 - auc_2: 0.8635 - val_loss: 0.4655 - val_accuracy: 0.7802 - val_auc_2: 0.8533\n",
            "Epoch 5/30\n",
            "184/184 [==============================] - ETA: 0s - loss: 0.3492 - accuracy: 0.8719 - auc_2: 0.9160\n",
            "Epoch 5: val_loss did not improve from 0.46555\n",
            "184/184 [==============================] - 17s 91ms/step - loss: 0.3492 - accuracy: 0.8719 - auc_2: 0.9160 - val_loss: 0.4771 - val_accuracy: 0.7832 - val_auc_2: 0.8511\n",
            "Epoch 6/30\n",
            "184/184 [==============================] - ETA: 0s - loss: 0.2786 - accuracy: 0.9039 - auc_2: 0.9433\n",
            "Epoch 6: val_loss did not improve from 0.46555\n",
            "184/184 [==============================] - 16s 89ms/step - loss: 0.2786 - accuracy: 0.9039 - auc_2: 0.9433 - val_loss: 0.5103 - val_accuracy: 0.7847 - val_auc_2: 0.8500\n",
            "Epoch 7/30\n",
            "184/184 [==============================] - ETA: 0s - loss: 0.2295 - accuracy: 0.9231 - auc_2: 0.9610\n",
            "Epoch 7: val_loss did not improve from 0.46555\n",
            "184/184 [==============================] - 16s 88ms/step - loss: 0.2295 - accuracy: 0.9231 - auc_2: 0.9610 - val_loss: 0.5558 - val_accuracy: 0.7832 - val_auc_2: 0.8460\n",
            "Epoch 8/30\n",
            "184/184 [==============================] - ETA: 0s - loss: 0.1960 - accuracy: 0.9399 - auc_2: 0.9694\n",
            "Epoch 8: val_loss did not improve from 0.46555\n",
            "184/184 [==============================] - 16s 89ms/step - loss: 0.1960 - accuracy: 0.9399 - auc_2: 0.9694 - val_loss: 0.5975 - val_accuracy: 0.7710 - val_auc_2: 0.8442\n",
            "Epoch 9/30\n",
            "184/184 [==============================] - ETA: 0s - loss: 0.1734 - accuracy: 0.9484 - auc_2: 0.9754\n",
            "Epoch 9: val_loss did not improve from 0.46555\n",
            "184/184 [==============================] - 16s 89ms/step - loss: 0.1734 - accuracy: 0.9484 - auc_2: 0.9754 - val_loss: 0.6300 - val_accuracy: 0.7695 - val_auc_2: 0.8423\n",
            "Epoch 10/30\n",
            "184/184 [==============================] - ETA: 0s - loss: 0.1544 - accuracy: 0.9524 - auc_2: 0.9801\n",
            "Epoch 10: val_loss did not improve from 0.46555\n",
            "184/184 [==============================] - 17s 90ms/step - loss: 0.1544 - accuracy: 0.9524 - auc_2: 0.9801 - val_loss: 0.6576 - val_accuracy: 0.7740 - val_auc_2: 0.8383\n",
            "Epoch 11/30\n",
            "184/184 [==============================] - ETA: 0s - loss: 0.1398 - accuracy: 0.9597 - auc_2: 0.9820\n",
            "Epoch 11: val_loss did not improve from 0.46555\n",
            "184/184 [==============================] - 16s 87ms/step - loss: 0.1398 - accuracy: 0.9597 - auc_2: 0.9820 - val_loss: 0.6858 - val_accuracy: 0.7710 - val_auc_2: 0.8373\n",
            "Epoch 12/30\n",
            "184/184 [==============================] - ETA: 0s - loss: 0.1253 - accuracy: 0.9631 - auc_2: 0.9857\n",
            "Epoch 12: val_loss did not improve from 0.46555\n",
            "184/184 [==============================] - 16s 86ms/step - loss: 0.1253 - accuracy: 0.9631 - auc_2: 0.9857 - val_loss: 0.7097 - val_accuracy: 0.7695 - val_auc_2: 0.8359\n",
            "CPU times: user 6min 26s, sys: 45.3 s, total: 7min 11s\n",
            "Wall time: 3min 32s\n"
          ]
        }
      ]
    },
    {
      "cell_type": "code",
      "source": [
        "# monitor training convergence\n",
        "history_plot(hist_GRU)"
      ],
      "metadata": {
        "colab": {
          "base_uri": "https://localhost:8080/",
          "height": 407
        },
        "id": "XhhaEufNsqXs",
        "outputId": "38856267-89cf-44a0-ef52-98999ac2f2de"
      },
      "execution_count": 38,
      "outputs": [
        {
          "output_type": "display_data",
          "data": {
            "text/plain": [
              "<Figure size 1400x400 with 3 Axes>"
            ],
            "image/png": "[encoded data removed]"
          },
          "metadata": {}
        }
      ]
    },
    {
      "cell_type": "markdown",
      "source": [
        " The best model was found at the 4th epoch with a validation accuracy of 78.02% and a validation AUC of 85.33%.\n",
        "\n",
        "The rapid increase in the validation loss after the 4th epoch suggests that the model is overfitting the training data.\n",
        "\n",
        "It took just 3min 32s to train, and stopped early at 12 epochs."
      ],
      "metadata": {
        "id": "dVUDV-5umcKH"
      }
    },
    {
      "cell_type": "markdown",
      "source": [
        "### Bidirectional Architecture\n",
        "\n",
        "Finally, we will apply a more complex approach with `Bidirectional` layers and `LSTM` layers."
      ],
      "metadata": {
        "id": "651B2MglmeDQ"
      }
    },
    {
      "cell_type": "code",
      "source": [
        "# set seeds to ensure repeatibility of results\n",
        "tf.random.set_seed(42)\n",
        "\n",
        "# set model architecture\n",
        "mdl_BLSTM = Sequential([\n",
        "            encoder,\n",
        "            Embedding(input_dim=vocab_size, output_dim=64, input_length=max_length, mask_zero=True),\n",
        "            Bidirectional(LSTM(64,  return_sequences=True)),\n",
        "            Bidirectional(LSTM(64)),\n",
        "            Dropout(0.3),\n",
        "            Dense(128, activation='relu'),\n",
        "            Dropout(0.5),\n",
        "            Dense(64, activation='relu'),\n",
        "            Dropout(0.5),\n",
        "            Dense(1, activation='sigmoid')\n",
        "            ])\n",
        "\n",
        "# Summary of the model\n",
        "mdl_BLSTM.summary()\n",
        "\n",
        "# Set an early stopper\n",
        "stopper = keras.callbacks.EarlyStopping(\n",
        "                                      monitor=\"val_accuracy\",\n",
        "                                      min_delta=0,\n",
        "                                      patience=0,\n",
        "                                      verbose=0,\n",
        "                                      mode=\"auto\",\n",
        "                                      baseline=None,\n",
        "                                      restore_best_weights=False,\n",
        "                                      start_from_epoch=10,\n",
        "                                      )\n",
        "# Compile the model\n",
        "mdl_BLSTM.compile(\n",
        "              loss=keras.losses.BinaryCrossentropy(from_logits=False),\n",
        "              optimizer=keras.optimizers.Adam(learning_rate=lr_schedule),\n",
        "              metrics=['accuracy', AUC()])"
      ],
      "metadata": {
        "colab": {
          "base_uri": "https://localhost:8080/"
        },
        "id": "S1-tFPKAmejx",
        "outputId": "c97c46b6-1b4f-4511-e085-6a64a75af486"
      },
      "execution_count": 39,
      "outputs": [
        {
          "output_type": "stream",
          "name": "stdout",
          "text": [
            "Model: \"sequential_3\"\n",
            "_________________________________________________________________\n",
            " Layer (type)                Output Shape              Param #   \n",
            "=================================================================\n",
            " text_vectorization (TextVe  (None, 25)                0         \n",
            " ctorization)                                                    \n",
            "                                                                 \n",
            " embedding_3 (Embedding)     (None, 25, 64)            1213440   \n",
            "                                                                 \n",
            " bidirectional (Bidirection  (None, 25, 128)           66048     \n",
            " al)                                                             \n",
            "                                                                 \n",
            " bidirectional_1 (Bidirecti  (None, 128)               98816     \n",
            " onal)                                                           \n",
            "                                                                 \n",
            " dropout_9 (Dropout)         (None, 128)               0         \n",
            "                                                                 \n",
            " dense_9 (Dense)             (None, 128)               16512     \n",
            "                                                                 \n",
            " dropout_10 (Dropout)        (None, 128)               0         \n",
            "                                                                 \n",
            " dense_10 (Dense)            (None, 64)                8256      \n",
            "                                                                 \n",
            " dropout_11 (Dropout)        (None, 64)                0         \n",
            "                                                                 \n",
            " dense_11 (Dense)            (None, 1)                 65        \n",
            "                                                                 \n",
            "=================================================================\n",
            "Total params: 1403137 (5.35 MB)\n",
            "Trainable params: 1403137 (5.35 MB)\n",
            "Non-trainable params: 0 (0.00 Byte)\n",
            "_________________________________________________________________\n"
          ]
        }
      ]
    },
    {
      "cell_type": "code",
      "source": [
        "%%time\n",
        "## capture start time\n",
        "t0 = time()\n",
        "\n",
        "## Set checkpointer for best model\n",
        "checkpointer = ModelCheckpoint(\n",
        "                              filepath = '/content/drive/MyDrive/mdl_BLSTM_weights_best.keras',\n",
        "                              verbose = 1,\n",
        "                              save_best_only=True\n",
        "                              )\n",
        "\n",
        "# Set an early stopper\n",
        "stopper = keras.callbacks.EarlyStopping(\n",
        "                                      monitor=\"val_accuracy\",\n",
        "                                      min_delta=0,\n",
        "                                      patience=0,\n",
        "                                      verbose=0,\n",
        "                                      mode=\"auto\",\n",
        "                                      baseline=None,\n",
        "                                      restore_best_weights=False,\n",
        "                                      start_from_epoch=10,\n",
        "                                      )\n",
        "\n",
        "# Training the model\n",
        "hist_BLSTM = mdl_BLSTM.fit(\n",
        "                      tf_train,\n",
        "                      steps_per_epoch = tf_train_batch,\n",
        "                      epochs = 30,\n",
        "                      validation_data = tf_valid,\n",
        "                      validation_steps = tf_valid_batch,\n",
        "                      verbose = 1,\n",
        "                      callbacks=[checkpointer, stopper]\n",
        "                      )\n",
        "\n",
        "# calculate wall time\n",
        "dur_BLSTM = time() - t0"
      ],
      "metadata": {
        "colab": {
          "base_uri": "https://localhost:8080/"
        },
        "id": "z9iK95pwPJgy",
        "outputId": "ff64a9f9-c275-4b4a-fffa-314ded11d956"
      },
      "execution_count": 40,
      "outputs": [
        {
          "output_type": "stream",
          "name": "stdout",
          "text": [
            "Epoch 1/30\n",
            "182/184 [============================>.] - ETA: 0s - loss: 0.6918 - accuracy: 0.5312 - auc_3: 0.5673\n",
            "Epoch 1: val_loss improved from inf to 0.68374, saving model to /content/drive/MyDrive/mdl_BLSTM_weights_best.keras\n",
            "184/184 [==============================] - 33s 95ms/step - loss: 0.6918 - accuracy: 0.5318 - auc_3: 0.5680 - val_loss: 0.6837 - val_accuracy: 0.6687 - val_auc_3: 0.7810\n",
            "Epoch 2/30\n",
            "183/184 [============================>.] - ETA: 0s - loss: 0.5905 - accuracy: 0.7225 - auc_3: 0.7827\n",
            "Epoch 2: val_loss improved from 0.68374 to 0.49887, saving model to /content/drive/MyDrive/mdl_BLSTM_weights_best.keras\n",
            "184/184 [==============================] - 5s 26ms/step - loss: 0.5899 - accuracy: 0.7226 - auc_3: 0.7827 - val_loss: 0.4989 - val_accuracy: 0.7557 - val_auc_3: 0.8262\n",
            "Epoch 3/30\n",
            "184/184 [==============================] - ETA: 0s - loss: 0.4239 - accuracy: 0.8342 - auc_3: 0.8822\n",
            "Epoch 3: val_loss improved from 0.49887 to 0.49548, saving model to /content/drive/MyDrive/mdl_BLSTM_weights_best.keras\n",
            "184/184 [==============================] - 4s 23ms/step - loss: 0.4239 - accuracy: 0.8342 - auc_3: 0.8822 - val_loss: 0.4955 - val_accuracy: 0.7786 - val_auc_3: 0.8453\n",
            "Epoch 4/30\n",
            "184/184 [==============================] - ETA: 0s - loss: 0.3188 - accuracy: 0.8925 - auc_3: 0.9327\n",
            "Epoch 4: val_loss did not improve from 0.49548\n",
            "184/184 [==============================] - 4s 24ms/step - loss: 0.3188 - accuracy: 0.8925 - auc_3: 0.9327 - val_loss: 0.5565 - val_accuracy: 0.7817 - val_auc_3: 0.8435\n",
            "Epoch 5/30\n",
            "182/184 [============================>.] - ETA: 0s - loss: 0.2376 - accuracy: 0.9246 - auc_3: 0.9617\n",
            "Epoch 5: val_loss did not improve from 0.49548\n",
            "184/184 [==============================] - 4s 21ms/step - loss: 0.2376 - accuracy: 0.9246 - auc_3: 0.9616 - val_loss: 0.6525 - val_accuracy: 0.7786 - val_auc_3: 0.8323\n",
            "Epoch 6/30\n",
            "182/184 [============================>.] - ETA: 0s - loss: 0.1813 - accuracy: 0.9463 - auc_3: 0.9768\n",
            "Epoch 6: val_loss did not improve from 0.49548\n",
            "184/184 [==============================] - 4s 19ms/step - loss: 0.1811 - accuracy: 0.9462 - auc_3: 0.9769 - val_loss: 0.8383 - val_accuracy: 0.7664 - val_auc_3: 0.8273\n",
            "Epoch 7/30\n",
            "183/184 [============================>.] - ETA: 0s - loss: 0.1387 - accuracy: 0.9619 - auc_3: 0.9861\n",
            "Epoch 7: val_loss did not improve from 0.49548\n",
            "184/184 [==============================] - 4s 19ms/step - loss: 0.1383 - accuracy: 0.9621 - auc_3: 0.9862 - val_loss: 0.9577 - val_accuracy: 0.7634 - val_auc_3: 0.8187\n",
            "Epoch 8/30\n",
            "182/184 [============================>.] - ETA: 0s - loss: 0.1133 - accuracy: 0.9698 - auc_3: 0.9901\n",
            "Epoch 8: val_loss did not improve from 0.49548\n",
            "184/184 [==============================] - 4s 21ms/step - loss: 0.1133 - accuracy: 0.9696 - auc_3: 0.9901 - val_loss: 1.0444 - val_accuracy: 0.7573 - val_auc_3: 0.8154\n",
            "Epoch 9/30\n",
            "182/184 [============================>.] - ETA: 0s - loss: 0.0921 - accuracy: 0.9763 - auc_3: 0.9933\n",
            "Epoch 9: val_loss did not improve from 0.49548\n",
            "184/184 [==============================] - 4s 19ms/step - loss: 0.0918 - accuracy: 0.9764 - auc_3: 0.9934 - val_loss: 1.2268 - val_accuracy: 0.7511 - val_auc_3: 0.8073\n",
            "Epoch 10/30\n",
            "183/184 [============================>.] - ETA: 0s - loss: 0.0790 - accuracy: 0.9798 - auc_3: 0.9950\n",
            "Epoch 10: val_loss did not improve from 0.49548\n",
            "184/184 [==============================] - 3s 18ms/step - loss: 0.0786 - accuracy: 0.9800 - auc_3: 0.9950 - val_loss: 1.2712 - val_accuracy: 0.7527 - val_auc_3: 0.8109\n",
            "Epoch 11/30\n",
            "184/184 [==============================] - ETA: 0s - loss: 0.0692 - accuracy: 0.9811 - auc_3: 0.9960\n",
            "Epoch 11: val_loss did not improve from 0.49548\n",
            "184/184 [==============================] - 3s 18ms/step - loss: 0.0692 - accuracy: 0.9811 - auc_3: 0.9960 - val_loss: 1.3477 - val_accuracy: 0.7511 - val_auc_3: 0.8055\n",
            "Epoch 12/30\n",
            "181/184 [============================>.] - ETA: 0s - loss: 0.0657 - accuracy: 0.9834 - auc_3: 0.9963\n",
            "Epoch 12: val_loss did not improve from 0.49548\n",
            "184/184 [==============================] - 3s 18ms/step - loss: 0.0656 - accuracy: 0.9835 - auc_3: 0.9963 - val_loss: 1.3946 - val_accuracy: 0.7496 - val_auc_3: 0.8077\n",
            "CPU times: user 1min 51s, sys: 11.7 s, total: 2min 2s\n",
            "Wall time: 1min 14s\n"
          ]
        }
      ]
    },
    {
      "cell_type": "code",
      "source": [
        "# monitor training convergence\n",
        "history_plot(hist_BLSTM)"
      ],
      "metadata": {
        "colab": {
          "base_uri": "https://localhost:8080/",
          "height": 407
        },
        "id": "vtLuol7fnST0",
        "outputId": "9582d243-0a6f-41df-bbe4-e968f070fcb4"
      },
      "execution_count": 41,
      "outputs": [
        {
          "output_type": "display_data",
          "data": {
            "text/plain": [
              "<Figure size 1400x400 with 3 Axes>"
            ],
            "image/png": "[encoded data removed]"
          },
          "metadata": {}
        }
      ]
    },
    {
      "cell_type": "markdown",
      "source": [
        "The best model was found at the 3rd epoch with a validation accuracy of 77.86% and a validation AUC of 84.53%.\n",
        "\n",
        "The rapid increase in the validation loss after the 3th epoch suggests that the model is overfitting the training data.\n",
        "\n",
        "It took just 1min 14s to train, and stopped early at 12 epochs."
      ],
      "metadata": {
        "id": "V1LStYZhqXBj"
      }
    },
    {
      "cell_type": "markdown",
      "source": [
        "## Results & Analysis\n",
        "\n",
        "In this section, we will summarize the results, and compare the predictive performance of the models."
      ],
      "metadata": {
        "id": "Z1K12FkAmUgZ"
      }
    },
    {
      "cell_type": "markdown",
      "source": [
        "### Compare Models Performance\n",
        "\n",
        "Let's evaluate and compare the predictive performance of the models against the validation set."
      ],
      "metadata": {
        "id": "yGShZqLZLTPW"
      }
    },
    {
      "cell_type": "code",
      "source": [
        "# Load the best models\n",
        "bst_mdl_SRNN = tf.keras.models.load_model('/content/drive/MyDrive/mdl_SRNN_weights_best.keras')\n",
        "bst_mdl_LSTM = tf.keras.models.load_model('/content/drive/MyDrive/mdl_LSTM_weights_best.keras')\n",
        "bst_mdl_GRU = tf.keras.models.load_model('/content/drive/MyDrive/mdl_GRU_weights_best.keras')\n",
        "bst_mdl_BLSTM = tf.keras.models.load_model('/content/drive/MyDrive/mdl_BLSTM_weights_best.keras')"
      ],
      "metadata": {
        "colab": {
          "base_uri": "https://localhost:8080/"
        },
        "id": "RKgTLjesLdJj",
        "outputId": "d7b237ec-1f34-4ec7-a718-8bc4c6e607a2"
      },
      "execution_count": 42,
      "outputs": [
        {
          "output_type": "stream",
          "name": "stderr",
          "text": [
            "WARNING:tensorflow:Layer lstm will not use cuDNN kernels since it doesn't meet the criteria. It will use a generic GPU kernel as fallback when running on GPU.\n",
            "WARNING:tensorflow:Layer lstm_1 will not use cuDNN kernels since it doesn't meet the criteria. It will use a generic GPU kernel as fallback when running on GPU.\n",
            "WARNING:tensorflow:Layer gru will not use cuDNN kernels since it doesn't meet the criteria. It will use a generic GPU kernel as fallback when running on GPU.\n",
            "WARNING:tensorflow:Layer gru_1 will not use cuDNN kernels since it doesn't meet the criteria. It will use a generic GPU kernel as fallback when running on GPU.\n"
          ]
        }
      ]
    },
    {
      "cell_type": "code",
      "source": [
        "# get scores from validation set\n",
        "score_SRNN = bst_mdl_SRNN.evaluate(tf_valid)\n",
        "score_LSTM = bst_mdl_LSTM.evaluate(tf_valid)\n",
        "score_GRU = bst_mdl_GRU.evaluate(tf_valid)\n",
        "score_BLSTM = bst_mdl_BLSTM.evaluate(tf_valid)"
      ],
      "metadata": {
        "colab": {
          "base_uri": "https://localhost:8080/"
        },
        "id": "YCkMnYiqN1oK",
        "outputId": "c177ac26-88c7-432e-95e7-bea9b9eb33fa"
      },
      "execution_count": 43,
      "outputs": [
        {
          "output_type": "stream",
          "name": "stdout",
          "text": [
            "21/21 [==============================] - 1s 10ms/step - loss: 0.5175 - accuracy: 0.7588 - auc: 0.8298\n",
            "21/21 [==============================] - 1s 14ms/step - loss: 0.4958 - accuracy: 0.7969 - auc_1: 0.8365\n",
            "21/21 [==============================] - 1s 15ms/step - loss: 0.4655 - accuracy: 0.7802 - auc_2: 0.8533\n",
            "21/21 [==============================] - 8s 7ms/step - loss: 0.4955 - accuracy: 0.7786 - auc_3: 0.8453\n"
          ]
        }
      ]
    },
    {
      "cell_type": "code",
      "source": [
        "# plot the metrics\n",
        "## list of model description\n",
        "mdl_list = ['SRNN', 'LSTM', 'GRU', 'BLSTM']\n",
        "## metric list\n",
        "metric_list = ['validation loss', 'validation accuracy', 'validation auc']\n",
        "\n",
        "## set plot size\n",
        "plt.figure(figsize=[12,4])\n",
        "for i in range(len(metric_list)):\n",
        "  ### plot metric values\n",
        "  plt.subplot(1,3,i+1)\n",
        "  names = mdl_list\n",
        "  values = [score_SRNN[i], score_LSTM[i], score_GRU[i], score_BLSTM[i]]\n",
        "  plt.bar(range(len(mdl_list)), values, tick_label=names)\n",
        "  plt.title(metric_list[i])\n",
        "\n",
        "plt.tight_layout()\n",
        "plt.show()"
      ],
      "metadata": {
        "colab": {
          "base_uri": "https://localhost:8080/",
          "height": 407
        },
        "id": "UkmuZGI0N5YH",
        "outputId": "5a565db3-6c25-48a7-c873-4b8267e5ad45"
      },
      "execution_count": 44,
      "outputs": [
        {
          "output_type": "display_data",
          "data": {
            "text/plain": [
              "<Figure size 1200x400 with 3 Axes>"
            ],
            "image/png": "[encoded data removed]"
          },
          "metadata": {}
        }
      ]
    },
    {
      "cell_type": "markdown",
      "source": [
        "From the graphs, we can observe that the best architecture is the one based on `LSTM` layers, having achieved the highest `validation accuracy` at 79.69%.\n",
        "\n",
        "However, the architecture based on `GRU` layers achieved the lowest validation loss, and the `highest validation auc`.\n",
        "\n",
        "Finally, the worst performing architecture was the one based on `SRNN` layers,  as it achieved the highest `validation loss`, the lowest `validation accuracy`, and the lowest `validation auc`."
      ],
      "metadata": {
        "id": "aMZ4bX_gtvmZ"
      }
    },
    {
      "cell_type": "markdown",
      "source": [
        "### Training Time Comparison\n",
        "\n",
        "Let's now take a look at the duration taken to train the models."
      ],
      "metadata": {
        "id": "4AZKLoQVQ8x8"
      }
    },
    {
      "cell_type": "code",
      "source": [
        "# Time in seconds for each model training\n",
        "## set plot size\n",
        "plt.figure(figsize=[4,4])\n",
        "names = mdl_list\n",
        "values = [dur_SRNN, dur_LSTM, dur_GRU, dur_BLSTM]\n",
        "plt.bar(range(len(mdl_list)), values, tick_label=names)\n",
        "plt.title('Wall Time Comparison')\n",
        "\n",
        "plt.tight_layout()\n",
        "plt.show()"
      ],
      "metadata": {
        "colab": {
          "base_uri": "https://localhost:8080/",
          "height": 407
        },
        "id": "4Z6-Nk8VRV9r",
        "outputId": "d8f7c59b-f83a-47d9-d9ae-00d04d71a2fe"
      },
      "execution_count": 45,
      "outputs": [
        {
          "output_type": "display_data",
          "data": {
            "text/plain": [
              "<Figure size 400x400 with 1 Axes>"
            ],
            "image/png": "[encoded data removed]"
          },
          "metadata": {}
        }
      ]
    },
    {
      "cell_type": "markdown",
      "source": [
        "Under the same training conditions, the quickest model architecture to train was the `BLSTM` with two bidirectional `LSTM` layers.\n",
        "\n",
        "The `LSTM` model architecture was the slowest one to train, taking almost 4 mins.\n",
        "\n",
        "For the small difference in performance, the `BLSTM` model is more computer efficient that the other models."
      ],
      "metadata": {
        "id": "rn0241opwIxe"
      }
    },
    {
      "cell_type": "markdown",
      "source": [
        "### Confusion Matrix Comparison\n",
        "\n",
        "To further evaluate the quality of the prediction, let's generate a confusion matrix for each model, and compare them."
      ],
      "metadata": {
        "id": "TiP1l4_XSKjn"
      }
    },
    {
      "cell_type": "code",
      "source": [
        "# predict each model class probabilities\n",
        "y_prob_SRNN = bst_mdl_SRNN.predict(tf_valid)\n",
        "y_prob_LSTM = bst_mdl_LSTM.predict(tf_valid)\n",
        "y_prob_GRU = bst_mdl_GRU.predict(tf_valid)\n",
        "y_prob_BLSTM = bst_mdl_BLSTM.predict(tf_valid)"
      ],
      "metadata": {
        "colab": {
          "base_uri": "https://localhost:8080/"
        },
        "id": "gTFna8i0SJxt",
        "outputId": "8aa7df9c-51f7-468a-991c-b969b6dc6061"
      },
      "execution_count": 46,
      "outputs": [
        {
          "output_type": "stream",
          "name": "stdout",
          "text": [
            "21/21 [==============================] - 1s 8ms/step\n",
            "21/21 [==============================] - 1s 12ms/step\n",
            "21/21 [==============================] - 1s 13ms/step\n",
            "21/21 [==============================] - 5s 6ms/step\n"
          ]
        }
      ]
    },
    {
      "cell_type": "code",
      "source": [
        "y_pred_SRNN = np.where(y_prob_SRNN > 0.5, 1, 0)\n",
        "y_pred_LSTM = np.where(y_prob_LSTM > 0.5, 1, 0)\n",
        "y_pred_GRU = np.where(y_prob_GRU > 0.5, 1, 0)\n",
        "y_pred_BLSTM = np.where(y_prob_BLSTM > 0.5, 1, 0)\n",
        "\n",
        "y_pred_list = [y_pred_SRNN, y_pred_LSTM, y_pred_GRU, y_pred_BLSTM]\n",
        "y_true = df_val_sp['target']"
      ],
      "metadata": {
        "id": "G73NVzir45Sq"
      },
      "execution_count": 47,
      "outputs": []
    },
    {
      "cell_type": "code",
      "source": [
        "f, axes = plt.subplots(1, 4, figsize=(14, 4), sharey='row')\n",
        "\n",
        "for i, y_pred in enumerate(y_pred_list):\n",
        "  cf_matrix = confusion_matrix(y_true, y_pred)\n",
        "  disp = ConfusionMatrixDisplay(cf_matrix)\n",
        "  disp.plot(ax=axes[i])\n",
        "  disp.ax_.set_title(mdl_list[i])\n",
        "  disp.im_.colorbar.remove()\n",
        "  disp.ax_.set_xlabel('')\n",
        "  if i!=0:\n",
        "      disp.ax_.set_ylabel('')\n",
        "\n",
        "f.text(0.4, 0.1, 'Predicted label', ha='left')\n",
        "plt.subplots_adjust(wspace=0.40, hspace=0.1)\n",
        "\n",
        "f.colorbar(disp.im_, ax=axes)\n",
        "plt.show()"
      ],
      "metadata": {
        "colab": {
          "base_uri": "https://localhost:8080/",
          "height": 352
        },
        "id": "DWyRoxFoSIy5",
        "outputId": "37cb97bd-9d1f-4072-84bc-214ba8299138"
      },
      "execution_count": 48,
      "outputs": [
        {
          "output_type": "display_data",
          "data": {
            "text/plain": [
              "<Figure size 1400x400 with 5 Axes>"
            ],
            "image/png": "[encoded data removed]"
          },
          "metadata": {}
        }
      ]
    },
    {
      "cell_type": "markdown",
      "source": [
        "The confusion matrices reiterates the previous observed results, where the `LSTM` model is the most accurate of the model by a small margin.\n",
        "\n",
        "Moreover, we observe that all the models struggle more with false-positive than false-negative. However, for a disaster warning system, a false positive (false alarm) might be inconvenient but a false negative (missing a real disaster) is much worse.\n",
        "\n",
        "The `BLSTM` model has got the most balance results."
      ],
      "metadata": {
        "id": "40r2V08SyD-c"
      }
    },
    {
      "cell_type": "markdown",
      "source": [
        "### Prepare Submission File for Kaggle\n",
        "\n",
        "In this section, we will evaluate the `test` set using the `LSTM` model, and prepare the submission file for the Kaggle competition."
      ],
      "metadata": {
        "id": "LY5NfDIx-YMC"
      }
    },
    {
      "cell_type": "code",
      "source": [
        "# prediction of label probability\n",
        "y_prob_test_LSTM = bst_mdl_LSTM.predict(tf_test)\n",
        "# input predicted values\n",
        "y_pred_test_LSTM = np.where(y_prob_test_LSTM > 0.5, 1, 0)"
      ],
      "metadata": {
        "colab": {
          "base_uri": "https://localhost:8080/"
        },
        "id": "FGKvYv9t-tfy",
        "outputId": "04236f04-7967-4929-aa86-c85a4709411b"
      },
      "execution_count": 49,
      "outputs": [
        {
          "output_type": "stream",
          "name": "stdout",
          "text": [
            "102/102 [==============================] - 2s 12ms/step\n"
          ]
        }
      ]
    },
    {
      "cell_type": "code",
      "source": [
        "# display one end result\n",
        "df_test_target = pd.DataFrame(y_pred_test_LSTM, columns=['target'])\n",
        "df_submission = pd.concat([df_sample.drop('target', axis=1), df_test_target], axis=1)\n",
        "df_submission.head()"
      ],
      "metadata": {
        "colab": {
          "base_uri": "https://localhost:8080/",
          "height": 206
        },
        "id": "o2ms-rqOE0Ci",
        "outputId": "fc25ce64-b8fb-4b6b-c41a-4ae064ebd654"
      },
      "execution_count": 50,
      "outputs": [
        {
          "output_type": "execute_result",
          "data": {
            "text/plain": [
              "   id  target\n",
              "0   0       0\n",
              "1   2       0\n",
              "2   3       1\n",
              "3   9       1\n",
              "4  11       1"
            ],
            "text/html": [
              "\n",
              "  <div id=\"df-768eae16-c7b8-4b61-9789-4f6eba20b88c\" class=\"colab-df-container\">\n",
              "    <div>\n",
              "<style scoped>\n",
              "    .dataframe tbody tr th:only-of-type {\n",
              "        vertical-align: middle;\n",
              "    }\n",
              "\n",
              "    .dataframe tbody tr th {\n",
              "        vertical-align: top;\n",
              "    }\n",
              "\n",
              "    .dataframe thead th {\n",
              "        text-align: right;\n",
              "    }\n",
              "</style>\n",
              "<table border=\"1\" class=\"dataframe\">\n",
              "  <thead>\n",
              "    <tr style=\"text-align: right;\">\n",
              "      <th></th>\n",
              "      <th>id</th>\n",
              "      <th>target</th>\n",
              "    </tr>\n",
              "  </thead>\n",
              "  <tbody>\n",
              "    <tr>\n",
              "      <th>0</th>\n",
              "      <td>0</td>\n",
              "      <td>0</td>\n",
              "    </tr>\n",
              "    <tr>\n",
              "      <th>1</th>\n",
              "      <td>2</td>\n",
              "      <td>0</td>\n",
              "    </tr>\n",
              "    <tr>\n",
              "      <th>2</th>\n",
              "      <td>3</td>\n",
              "      <td>1</td>\n",
              "    </tr>\n",
              "    <tr>\n",
              "      <th>3</th>\n",
              "      <td>9</td>\n",
              "      <td>1</td>\n",
              "    </tr>\n",
              "    <tr>\n",
              "      <th>4</th>\n",
              "      <td>11</td>\n",
              "      <td>1</td>\n",
              "    </tr>\n",
              "  </tbody>\n",
              "</table>\n",
              "</div>\n",
              "    <div class=\"colab-df-buttons\">\n",
              "\n",
              "  <div class=\"colab-df-container\">\n",
              "    <button class=\"colab-df-convert\" onclick=\"convertToInteractive('df-768eae16-c7b8-4b61-9789-4f6eba20b88c')\"\n",
              "            title=\"Convert this dataframe to an interactive table.\"\n",
              "            style=\"display:none;\">\n",
              "\n",
              "  <svg xmlns=\"http://www.w3.org/2000/svg\" height=\"24px\" viewBox=\"0 -960 960 960\">\n",
              "    <path d=\"M120-120v-720h720v720H120Zm60-500h600v-160H180v160Zm220 220h160v-160H400v160Zm0 220h160v-160H400v160ZM180-400h160v-160H180v160Zm440 0h160v-160H620v160ZM180-180h160v-160H180v160Zm440 0h160v-160H620v160Z\"/>\n",
              "  </svg>\n",
              "    </button>\n",
              "\n",
              "  <style>\n",
              "    .colab-df-container {\n",
              "      display:flex;\n",
              "      gap: 12px;\n",
              "    }\n",
              "\n",
              "    .colab-df-convert {\n",
              "      background-color: #E8F0FE;\n",
              "      border: none;\n",
              "      border-radius: 50%;\n",
              "      cursor: pointer;\n",
              "      display: none;\n",
              "      fill: #1967D2;\n",
              "      height: 32px;\n",
              "      padding: 0 0 0 0;\n",
              "      width: 32px;\n",
              "    }\n",
              "\n",
              "    .colab-df-convert:hover {\n",
              "      background-color: #E2EBFA;\n",
              "      box-shadow: 0px 1px 2px rgba(60, 64, 67, 0.3), 0px 1px 3px 1px rgba(60, 64, 67, 0.15);\n",
              "      fill: #174EA6;\n",
              "    }\n",
              "\n",
              "    .colab-df-buttons div {\n",
              "      margin-bottom: 4px;\n",
              "    }\n",
              "\n",
              "    [theme=dark] .colab-df-convert {\n",
              "      background-color: #3B4455;\n",
              "      fill: #D2E3FC;\n",
              "    }\n",
              "\n",
              "    [theme=dark] .colab-df-convert:hover {\n",
              "      background-color: #434B5C;\n",
              "      box-shadow: 0px 1px 3px 1px rgba(0, 0, 0, 0.15);\n",
              "      filter: drop-shadow(0px 1px 2px rgba(0, 0, 0, 0.3));\n",
              "      fill: #FFFFFF;\n",
              "    }\n",
              "  </style>\n",
              "\n",
              "    <script>\n",
              "      const buttonEl =\n",
              "        document.querySelector('#df-768eae16-c7b8-4b61-9789-4f6eba20b88c button.colab-df-convert');\n",
              "      buttonEl.style.display =\n",
              "        google.colab.kernel.accessAllowed ? 'block' : 'none';\n",
              "\n",
              "      async function convertToInteractive(key) {\n",
              "        const element = document.querySelector('#df-768eae16-c7b8-4b61-9789-4f6eba20b88c');\n",
              "        const dataTable =\n",
              "          await google.colab.kernel.invokeFunction('convertToInteractive',\n",
              "                                                    [key], {});\n",
              "        if (!dataTable) return;\n",
              "\n",
              "        const docLinkHtml = 'Like what you see? Visit the ' +\n",
              "          '<a target=\"_blank\" href=https://colab.research.google.com/notebooks/data_table.ipynb>data table notebook</a>'\n",
              "          + ' to learn more about interactive tables.';\n",
              "        element.innerHTML = '';\n",
              "        dataTable['output_type'] = 'display_data';\n",
              "        await google.colab.output.renderOutput(dataTable, element);\n",
              "        const docLink = document.createElement('div');\n",
              "        docLink.innerHTML = docLinkHtml;\n",
              "        element.appendChild(docLink);\n",
              "      }\n",
              "    </script>\n",
              "  </div>\n",
              "\n",
              "\n",
              "<div id=\"df-574d43ca-d451-4d56-8d22-6599b29014e4\">\n",
              "  <button class=\"colab-df-quickchart\" onclick=\"quickchart('df-574d43ca-d451-4d56-8d22-6599b29014e4')\"\n",
              "            title=\"Suggest charts\"\n",
              "            style=\"display:none;\">\n",
              "\n",
              "<svg xmlns=\"http://www.w3.org/2000/svg\" height=\"24px\"viewBox=\"0 0 24 24\"\n",
              "     width=\"24px\">\n",
              "    <g>\n",
              "        <path d=\"M19 3H5c-1.1 0-2 .9-2 2v14c0 1.1.9 2 2 2h14c1.1 0 2-.9 2-2V5c0-1.1-.9-2-2-2zM9 17H7v-7h2v7zm4 0h-2V7h2v10zm4 0h-2v-4h2v4z\"/>\n",
              "    </g>\n",
              "</svg>\n",
              "  </button>\n",
              "\n",
              "<style>\n",
              "  .colab-df-quickchart {\n",
              "      --bg-color: #E8F0FE;\n",
              "      --fill-color: #1967D2;\n",
              "      --hover-bg-color: #E2EBFA;\n",
              "      --hover-fill-color: #174EA6;\n",
              "      --disabled-fill-color: #AAA;\n",
              "      --disabled-bg-color: #DDD;\n",
              "  }\n",
              "\n",
              "  [theme=dark] .colab-df-quickchart {\n",
              "      --bg-color: #3B4455;\n",
              "      --fill-color: #D2E3FC;\n",
              "      --hover-bg-color: #434B5C;\n",
              "      --hover-fill-color: #FFFFFF;\n",
              "      --disabled-bg-color: #3B4455;\n",
              "      --disabled-fill-color: #666;\n",
              "  }\n",
              "\n",
              "  .colab-df-quickchart {\n",
              "    background-color: var(--bg-color);\n",
              "    border: none;\n",
              "    border-radius: 50%;\n",
              "    cursor: pointer;\n",
              "    display: none;\n",
              "    fill: var(--fill-color);\n",
              "    height: 32px;\n",
              "    padding: 0;\n",
              "    width: 32px;\n",
              "  }\n",
              "\n",
              "  .colab-df-quickchart:hover {\n",
              "    background-color: var(--hover-bg-color);\n",
              "    box-shadow: 0 1px 2px rgba(60, 64, 67, 0.3), 0 1px 3px 1px rgba(60, 64, 67, 0.15);\n",
              "    fill: var(--button-hover-fill-color);\n",
              "  }\n",
              "\n",
              "  .colab-df-quickchart-complete:disabled,\n",
              "  .colab-df-quickchart-complete:disabled:hover {\n",
              "    background-color: var(--disabled-bg-color);\n",
              "    fill: var(--disabled-fill-color);\n",
              "    box-shadow: none;\n",
              "  }\n",
              "\n",
              "  .colab-df-spinner {\n",
              "    border: 2px solid var(--fill-color);\n",
              "    border-color: transparent;\n",
              "    border-bottom-color: var(--fill-color);\n",
              "    animation:\n",
              "      spin 1s steps(1) infinite;\n",
              "  }\n",
              "\n",
              "  @keyframes spin {\n",
              "    0% {\n",
              "      border-color: transparent;\n",
              "      border-bottom-color: var(--fill-color);\n",
              "      border-left-color: var(--fill-color);\n",
              "    }\n",
              "    20% {\n",
              "      border-color: transparent;\n",
              "      border-left-color: var(--fill-color);\n",
              "      border-top-color: var(--fill-color);\n",
              "    }\n",
              "    30% {\n",
              "      border-color: transparent;\n",
              "      border-left-color: var(--fill-color);\n",
              "      border-top-color: var(--fill-color);\n",
              "      border-right-color: var(--fill-color);\n",
              "    }\n",
              "    40% {\n",
              "      border-color: transparent;\n",
              "      border-right-color: var(--fill-color);\n",
              "      border-top-color: var(--fill-color);\n",
              "    }\n",
              "    60% {\n",
              "      border-color: transparent;\n",
              "      border-right-color: var(--fill-color);\n",
              "    }\n",
              "    80% {\n",
              "      border-color: transparent;\n",
              "      border-right-color: var(--fill-color);\n",
              "      border-bottom-color: var(--fill-color);\n",
              "    }\n",
              "    90% {\n",
              "      border-color: transparent;\n",
              "      border-bottom-color: var(--fill-color);\n",
              "    }\n",
              "  }\n",
              "</style>\n",
              "\n",
              "  <script>\n",
              "    async function quickchart(key) {\n",
              "      const quickchartButtonEl =\n",
              "        document.querySelector('#' + key + ' button');\n",
              "      quickchartButtonEl.disabled = true;  // To prevent multiple clicks.\n",
              "      quickchartButtonEl.classList.add('colab-df-spinner');\n",
              "      try {\n",
              "        const charts = await google.colab.kernel.invokeFunction(\n",
              "            'suggestCharts', [key], {});\n",
              "      } catch (error) {\n",
              "        console.error('Error during call to suggestCharts:', error);\n",
              "      }\n",
              "      quickchartButtonEl.classList.remove('colab-df-spinner');\n",
              "      quickchartButtonEl.classList.add('colab-df-quickchart-complete');\n",
              "    }\n",
              "    (() => {\n",
              "      let quickchartButtonEl =\n",
              "        document.querySelector('#df-574d43ca-d451-4d56-8d22-6599b29014e4 button');\n",
              "      quickchartButtonEl.style.display =\n",
              "        google.colab.kernel.accessAllowed ? 'block' : 'none';\n",
              "    })();\n",
              "  </script>\n",
              "</div>\n",
              "\n",
              "    </div>\n",
              "  </div>\n"
            ],
            "application/vnd.google.colaboratory.intrinsic+json": {
              "type": "dataframe",
              "variable_name": "df_submission",
              "summary": "{\n  \"name\": \"df_submission\",\n  \"rows\": 3263,\n  \"fields\": [\n    {\n      \"column\": \"id\",\n      \"properties\": {\n        \"dtype\": \"number\",\n        \"std\": 3146,\n        \"min\": 0,\n        \"max\": 10875,\n        \"num_unique_values\": 3263,\n        \"samples\": [\n          8051,\n          425,\n          1330\n        ],\n        \"semantic_type\": \"\",\n        \"description\": \"\"\n      }\n    },\n    {\n      \"column\": \"target\",\n      \"properties\": {\n        \"dtype\": \"number\",\n        \"std\": 0,\n        \"min\": 0,\n        \"max\": 1,\n        \"num_unique_values\": 2,\n        \"samples\": [\n          1,\n          0\n        ],\n        \"semantic_type\": \"\",\n        \"description\": \"\"\n      }\n    }\n  ]\n}"
            }
          },
          "metadata": {},
          "execution_count": 50
        }
      ]
    },
    {
      "cell_type": "code",
      "source": [
        "# generate the submission outfile\n",
        "df_submission.to_csv('/content/drive/MyDrive/fs_RNN.csv', header=True, index=False)"
      ],
      "metadata": {
        "id": "r4QlO6-ODHdR"
      },
      "execution_count": 51,
      "outputs": []
    },
    {
      "cell_type": "markdown",
      "source": [
        "### Kaggle Scores and Leaderboard\n",
        "\n",
        "Below the score achieved by the `LSTM` model after submitting the results into Kaggle:\n",
        "\n",
        "![alt text](https://github.com/rojasael/DTSA/blob/main/5511/W4_Kaggle_Mini_Project/DTSA-5511_W4_Disasters_Tweets_Kaggle_Mini_Project%20-%20Kaggle%20Leaderboard.png?raw=1)\n",
        "\n",
        "The score was placed in the 572th position of the Leaderboard at the time of the submission."
      ],
      "metadata": {
        "id": "Kg1BsMQ1IOAA"
      }
    },
    {
      "cell_type": "markdown",
      "metadata": {
        "id": "5iILF5T5SkU9"
      },
      "source": [
        "## Conclusions"
      ]
    },
    {
      "cell_type": "markdown",
      "metadata": {
        "id": "VLJVHJJwSkU9"
      },
      "source": [
        "In this project, we explored the capability of building a machine learning model that predicts which Tweets are about real disasters and which one’s aren’t, using different Recurrent Neural Network achitectures. This involved the testing of four (4) types of RNN layers:\n",
        "\n",
        "* SRNN - Simple RNN,\n",
        "* LSTM - Long Short-Term Memory\n",
        "* GRU - Gated Recurrent Unit\n",
        "* BiNN - Bidirectional\n",
        "\n",
        "During the exploration and data anlysis, we removed two feature variables (i.e., `location`, `keyword`) without predictive power from the dataset. Additionally, the train data exhibited an uneven class distribution, which could bias the model towards the majority class. To address this, we applied random undersampling to even the class distribution.\n",
        "\n",
        "Furthermore, we applied the statistical technic *Term Frequency-Inverse Document Frequency (Tfidf)* to evaluate top words against each specific class. This allowed us to realize that there were some distintive words (i.e., news, disaster, police, crash, suicide, etc.) for the disaster category.  \n",
        "\n",
        "As a result of the training process, we observed that model training converged quickly in few epochs and then it began to overfit the training data, with the model `LSTM` achieving the highest `validation accuracy` at 79.69%. However, the models `GRU` and `BLSTM` were closeby. The worst model was `SRNN` with an accuracy of 75.88%.\n",
        "\n",
        "The models struggled more with false positives than false negatives. This translates to mistakenly raising a false alarm but less prompt to miss real disasters.\n",
        "\n",
        "Finally, we employed the LSTM model to classify Tweets from the test set and submitted the results to Kaggle. The model achieved a score of 0.78179, placing us at position 572 on the leaderboard.\n",
        "\n",
        "While the results showcase the potential of RNNs, there's room for further optimization. With more time, we could explore hyperparameter tuning, including increasing training epochs, experimenting with optimizers beyond Adam, and evaluating different learning rates, and training/validation ratios."
      ]
    }
  ],
  "metadata": {
    "kernelspec": {
      "display_name": "Python 3",
      "name": "python3"
    },
    "language_info": {
      "codemirror_mode": {
        "name": "ipython",
        "version": 3
      },
      "file_extension": ".py",
      "mimetype": "text/x-python",
      "name": "python",
      "nbconvert_exporter": "python",
      "pygments_lexer": "ipython3",
      "version": "3.9.12"
    },
    "colab": {
      "provenance": [],
      "collapsed_sections": [
        "HfAWtCocSkUu",
        "UsxwILOgSkUw",
        "ndBV5tff-FTU",
        "33YgRe4eSkUy",
        "70ox6WXFSkU5",
        "UIDwKrCvWJp1",
        "KFA6CSdKSkU6",
        "mvmvSBDAlM42",
        "CObeGabWZBCi",
        "PoUqxVx1ZM2O"
      ],
      "gpuType": "L4"
    },
    "accelerator": "GPU"
  },
  "nbformat": 4,
  "nbformat_minor": 0
}